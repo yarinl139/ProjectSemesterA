{
 "cells": [
  {
   "cell_type": "code",
   "execution_count": 1,
   "metadata": {},
   "outputs": [],
   "source": [
    "import pandas as pd\n",
    "import numpy as np\n",
    "from bs4 import BeautifulSoup\n",
    "import requests\n",
    "import seaborn as sns\n",
    "from pandas.plotting import scatter_matrix\n",
    "from sklearn.linear_model import LinearRegression\n",
    "from sklearn.tree import DecisionTreeRegressor\n",
    "from sklearn.neighbors import KNeighborsRegressor\n",
    "from sklearn.metrics import r2_score\n",
    "from sklearn.model_selection import cross_val_score\n",
    "from sklearn.model_selection import GridSearchCV\n",
    "from sklearn.model_selection import train_test_split\n",
    "import matplotlib.pyplot as plt\n",
    "%matplotlib inline"
   ]
  },
  {
   "cell_type": "code",
   "execution_count": 2,
   "metadata": {},
   "outputs": [],
   "source": [
    "response=requests.get(\"https://data.gov.il/api/3/action/datastore_search?resource_id=c3cb0630-0650-46c1-a068-82d575c094b2&limit=4633\")"
   ]
  },
  {
   "cell_type": "markdown",
   "metadata": {},
   "source": [
    "# We will build our dataframe based on our paramaters"
   ]
  },
  {
   "cell_type": "code",
   "execution_count": 3,
   "metadata": {},
   "outputs": [],
   "source": [
    "identity=[]\n",
    "protein=[]\n",
    "name=[]\n",
    "total_fat=[]\n",
    "total_sugars=[]\n",
    "vitamin_a=[]\n",
    "vitamin_b12=[]\n",
    "vitamin_b6=[]\n",
    "vitamin_c=[]\n",
    "vitamin_e=[]\n",
    "vitamin_k=[]\n",
    "calories=[]"
   ]
  },
  {
   "cell_type": "code",
   "execution_count": 4,
   "metadata": {},
   "outputs": [],
   "source": [
    "for data in response.json()['result']['records']:\n",
    "    identity.append(data[\"_id\"])\n",
    "    protein.append(data[\"protein\"])\n",
    "    name.append(data[\"shmmitzrach\"])\n",
    "    total_fat.append(data[\"total_fat\"])\n",
    "    total_sugars.append(data[\"total_sugars\"])\n",
    "    vitamin_a.append(data[\"vitamin_a_iu\"])\n",
    "    vitamin_b12.append(data[\"vitamin_b12\"])\n",
    "    vitamin_b6.append(data[\"vitamin_b6\"])\n",
    "    vitamin_c.append(data[\"vitamin_c\"])\n",
    "    vitamin_e.append(data[\"vitamin_e\"])\n",
    "    vitamin_k.append(data[\"vitamin_k\"])\n",
    "    calories.append(data[\"food_energy\"])"
   ]
  },
  {
   "cell_type": "code",
   "execution_count": 5,
   "metadata": {},
   "outputs": [
    {
     "data": {
      "text/html": [
       "<div>\n",
       "<style scoped>\n",
       "    .dataframe tbody tr th:only-of-type {\n",
       "        vertical-align: middle;\n",
       "    }\n",
       "\n",
       "    .dataframe tbody tr th {\n",
       "        vertical-align: top;\n",
       "    }\n",
       "\n",
       "    .dataframe thead th {\n",
       "        text-align: right;\n",
       "    }\n",
       "</style>\n",
       "<table border=\"1\" class=\"dataframe\">\n",
       "  <thead>\n",
       "    <tr style=\"text-align: right;\">\n",
       "      <th></th>\n",
       "      <th>name</th>\n",
       "      <th>identity</th>\n",
       "      <th>protein</th>\n",
       "      <th>total_fat</th>\n",
       "      <th>total_sugars</th>\n",
       "      <th>vitamin_a</th>\n",
       "      <th>vitamin_b12</th>\n",
       "      <th>vitamin_b6</th>\n",
       "      <th>vitamin_c</th>\n",
       "      <th>vitamin_e</th>\n",
       "      <th>vitamin_k</th>\n",
       "      <th>calories</th>\n",
       "    </tr>\n",
       "  </thead>\n",
       "  <tbody>\n",
       "    <tr>\n",
       "      <th>0</th>\n",
       "      <td>מי גבינה, חומצי, נוזלי</td>\n",
       "      <td>1</td>\n",
       "      <td>0.8</td>\n",
       "      <td>0.1</td>\n",
       "      <td>5.1</td>\n",
       "      <td>7.0</td>\n",
       "      <td>0.18</td>\n",
       "      <td>0.04</td>\n",
       "      <td>0.1</td>\n",
       "      <td>0.0</td>\n",
       "      <td>0.00</td>\n",
       "      <td>24</td>\n",
       "    </tr>\n",
       "    <tr>\n",
       "      <th>1</th>\n",
       "      <td>בורגול, מבושל עם שעועית לבנה ועגבניות</td>\n",
       "      <td>2</td>\n",
       "      <td>5.3</td>\n",
       "      <td>1.7</td>\n",
       "      <td>1.0</td>\n",
       "      <td>0.9</td>\n",
       "      <td>0.00</td>\n",
       "      <td>0.10</td>\n",
       "      <td>4.2</td>\n",
       "      <td>0.4</td>\n",
       "      <td>4.47</td>\n",
       "      <td>112</td>\n",
       "    </tr>\n",
       "    <tr>\n",
       "      <th>2</th>\n",
       "      <td>חלב אם</td>\n",
       "      <td>3</td>\n",
       "      <td>1.0</td>\n",
       "      <td>4.4</td>\n",
       "      <td>6.9</td>\n",
       "      <td>NaN</td>\n",
       "      <td>0.05</td>\n",
       "      <td>0.01</td>\n",
       "      <td>5.0</td>\n",
       "      <td>0.1</td>\n",
       "      <td>0.30</td>\n",
       "      <td>70</td>\n",
       "    </tr>\n",
       "    <tr>\n",
       "      <th>3</th>\n",
       "      <td>חלב 3% שומן, תנובה, טרה, הרדוף, יטבתה</td>\n",
       "      <td>4</td>\n",
       "      <td>3.3</td>\n",
       "      <td>3.0</td>\n",
       "      <td>4.6</td>\n",
       "      <td>149.5</td>\n",
       "      <td>0.45</td>\n",
       "      <td>0.04</td>\n",
       "      <td>0.0</td>\n",
       "      <td>0.1</td>\n",
       "      <td>0.28</td>\n",
       "      <td>60</td>\n",
       "    </tr>\n",
       "    <tr>\n",
       "      <th>4</th>\n",
       "      <td>חלב 1% שומן בקרטון מועשר ויטמין A,D, וסידן</td>\n",
       "      <td>5</td>\n",
       "      <td>3.0</td>\n",
       "      <td>1.0</td>\n",
       "      <td>4.6</td>\n",
       "      <td>202.1</td>\n",
       "      <td>0.43</td>\n",
       "      <td>0.03</td>\n",
       "      <td>0.0</td>\n",
       "      <td>0.0</td>\n",
       "      <td>0.10</td>\n",
       "      <td>42</td>\n",
       "    </tr>\n",
       "    <tr>\n",
       "      <th>...</th>\n",
       "      <td>...</td>\n",
       "      <td>...</td>\n",
       "      <td>...</td>\n",
       "      <td>...</td>\n",
       "      <td>...</td>\n",
       "      <td>...</td>\n",
       "      <td>...</td>\n",
       "      <td>...</td>\n",
       "      <td>...</td>\n",
       "      <td>...</td>\n",
       "      <td>...</td>\n",
       "      <td>...</td>\n",
       "    </tr>\n",
       "    <tr>\n",
       "      <th>4628</th>\n",
       "      <td>טופו במרקם רך, מועשר בסידן, משק ווילר</td>\n",
       "      <td>4629</td>\n",
       "      <td>14.4</td>\n",
       "      <td>7.4</td>\n",
       "      <td>0.0</td>\n",
       "      <td>140.9</td>\n",
       "      <td>0.00</td>\n",
       "      <td>0.02</td>\n",
       "      <td>0.2</td>\n",
       "      <td>NaN</td>\n",
       "      <td>NaN</td>\n",
       "      <td>130</td>\n",
       "    </tr>\n",
       "    <tr>\n",
       "      <th>4629</th>\n",
       "      <td>טופו משי, ללא גלוטן, במרקם קשה, Silken firm</td>\n",
       "      <td>4630</td>\n",
       "      <td>6.9</td>\n",
       "      <td>2.7</td>\n",
       "      <td>1.3</td>\n",
       "      <td>0.0</td>\n",
       "      <td>0.00</td>\n",
       "      <td>0.01</td>\n",
       "      <td>0.0</td>\n",
       "      <td>NaN</td>\n",
       "      <td>NaN</td>\n",
       "      <td>62</td>\n",
       "    </tr>\n",
       "    <tr>\n",
       "      <th>4630</th>\n",
       "      <td>טופו משי,קל, ללא גלוטן, במרקם קשה, Silken lite...</td>\n",
       "      <td>4631</td>\n",
       "      <td>6.3</td>\n",
       "      <td>0.8</td>\n",
       "      <td>0.5</td>\n",
       "      <td>0.0</td>\n",
       "      <td>0.00</td>\n",
       "      <td>0.00</td>\n",
       "      <td>0.0</td>\n",
       "      <td>NaN</td>\n",
       "      <td>NaN</td>\n",
       "      <td>37</td>\n",
       "    </tr>\n",
       "    <tr>\n",
       "      <th>4631</th>\n",
       "      <td>טופו משי, ללא גלוטן, במרקם רך, Silken soft</td>\n",
       "      <td>4632</td>\n",
       "      <td>4.8</td>\n",
       "      <td>2.7</td>\n",
       "      <td>1.3</td>\n",
       "      <td>0.0</td>\n",
       "      <td>0.00</td>\n",
       "      <td>0.01</td>\n",
       "      <td>0.0</td>\n",
       "      <td>NaN</td>\n",
       "      <td>NaN</td>\n",
       "      <td>55</td>\n",
       "    </tr>\n",
       "    <tr>\n",
       "      <th>4632</th>\n",
       "      <td>פלפל צהוב, טרי</td>\n",
       "      <td>4633</td>\n",
       "      <td>0.9</td>\n",
       "      <td>0.2</td>\n",
       "      <td>3.0</td>\n",
       "      <td>NaN</td>\n",
       "      <td>NaN</td>\n",
       "      <td>0.25</td>\n",
       "      <td>97.0</td>\n",
       "      <td>0.8</td>\n",
       "      <td>6.50</td>\n",
       "      <td>22</td>\n",
       "    </tr>\n",
       "  </tbody>\n",
       "</table>\n",
       "<p>4633 rows × 12 columns</p>\n",
       "</div>"
      ],
      "text/plain": [
       "                                                   name  identity  protein  \\\n",
       "0                                מי גבינה, חומצי, נוזלי         1      0.8   \n",
       "1                 בורגול, מבושל עם שעועית לבנה ועגבניות         2      5.3   \n",
       "2                                                חלב אם         3      1.0   \n",
       "3                 חלב 3% שומן, תנובה, טרה, הרדוף, יטבתה         4      3.3   \n",
       "4           חלב 1% שומן בקרטון מועשר ויטמין A,D, וסידן          5      3.0   \n",
       "...                                                 ...       ...      ...   \n",
       "4628              טופו במרקם רך, מועשר בסידן, משק ווילר      4629     14.4   \n",
       "4629        טופו משי, ללא גלוטן, במרקם קשה, Silken firm      4630      6.9   \n",
       "4630  טופו משי,קל, ללא גלוטן, במרקם קשה, Silken lite...      4631      6.3   \n",
       "4631         טופו משי, ללא גלוטן, במרקם רך, Silken soft      4632      4.8   \n",
       "4632                                    פלפל צהוב, טרי       4633      0.9   \n",
       "\n",
       "      total_fat  total_sugars  vitamin_a  vitamin_b12  vitamin_b6  vitamin_c  \\\n",
       "0           0.1           5.1        7.0         0.18        0.04        0.1   \n",
       "1           1.7           1.0        0.9         0.00        0.10        4.2   \n",
       "2           4.4           6.9        NaN         0.05        0.01        5.0   \n",
       "3           3.0           4.6      149.5         0.45        0.04        0.0   \n",
       "4           1.0           4.6      202.1         0.43        0.03        0.0   \n",
       "...         ...           ...        ...          ...         ...        ...   \n",
       "4628        7.4           0.0      140.9         0.00        0.02        0.2   \n",
       "4629        2.7           1.3        0.0         0.00        0.01        0.0   \n",
       "4630        0.8           0.5        0.0         0.00        0.00        0.0   \n",
       "4631        2.7           1.3        0.0         0.00        0.01        0.0   \n",
       "4632        0.2           3.0        NaN          NaN        0.25       97.0   \n",
       "\n",
       "      vitamin_e  vitamin_k  calories  \n",
       "0           0.0       0.00        24  \n",
       "1           0.4       4.47       112  \n",
       "2           0.1       0.30        70  \n",
       "3           0.1       0.28        60  \n",
       "4           0.0       0.10        42  \n",
       "...         ...        ...       ...  \n",
       "4628        NaN        NaN       130  \n",
       "4629        NaN        NaN        62  \n",
       "4630        NaN        NaN        37  \n",
       "4631        NaN        NaN        55  \n",
       "4632        0.8       6.50        22  \n",
       "\n",
       "[4633 rows x 12 columns]"
      ]
     },
     "execution_count": 5,
     "metadata": {},
     "output_type": "execute_result"
    }
   ],
   "source": [
    "newDataFrame=pd.DataFrame({'name':name,'identity':identity,'protein':protein,'total_fat':total_fat,'total_sugars':total_sugars,\n",
    "                          'vitamin_a':vitamin_a,'vitamin_b12':vitamin_b12,'vitamin_b6':vitamin_b6,'vitamin_c':vitamin_c,'vitamin_e':vitamin_e,\n",
    "                          'vitamin_k':vitamin_k,'calories':calories})\n",
    "newDataFrame"
   ]
  },
  {
   "cell_type": "markdown",
   "metadata": {},
   "source": [
    "## After we have ready data set let's take a quick glance at our dataset"
   ]
  },
  {
   "cell_type": "code",
   "execution_count": 6,
   "metadata": {
    "scrolled": true
   },
   "outputs": [
    {
     "name": "stdout",
     "output_type": "stream",
     "text": [
      "<class 'pandas.core.frame.DataFrame'>\n",
      "RangeIndex: 4633 entries, 0 to 4632\n",
      "Data columns (total 12 columns):\n",
      " #   Column        Non-Null Count  Dtype  \n",
      "---  ------        --------------  -----  \n",
      " 0   name          4633 non-null   object \n",
      " 1   identity      4633 non-null   int64  \n",
      " 2   protein       4633 non-null   float64\n",
      " 3   total_fat     4633 non-null   float64\n",
      " 4   total_sugars  4243 non-null   float64\n",
      " 5   vitamin_a     2640 non-null   float64\n",
      " 6   vitamin_b12   4219 non-null   float64\n",
      " 7   vitamin_b6    4237 non-null   float64\n",
      " 8   vitamin_c     4231 non-null   float64\n",
      " 9   vitamin_e     3982 non-null   float64\n",
      " 10  vitamin_k     3704 non-null   float64\n",
      " 11  calories      4633 non-null   int64  \n",
      "dtypes: float64(9), int64(2), object(1)\n",
      "memory usage: 434.5+ KB\n"
     ]
    }
   ],
   "source": [
    "newDataFrame.info()"
   ]
  },
  {
   "cell_type": "code",
   "execution_count": 7,
   "metadata": {
    "scrolled": true
   },
   "outputs": [
    {
     "data": {
      "text/html": [
       "<div>\n",
       "<style scoped>\n",
       "    .dataframe tbody tr th:only-of-type {\n",
       "        vertical-align: middle;\n",
       "    }\n",
       "\n",
       "    .dataframe tbody tr th {\n",
       "        vertical-align: top;\n",
       "    }\n",
       "\n",
       "    .dataframe thead th {\n",
       "        text-align: right;\n",
       "    }\n",
       "</style>\n",
       "<table border=\"1\" class=\"dataframe\">\n",
       "  <thead>\n",
       "    <tr style=\"text-align: right;\">\n",
       "      <th></th>\n",
       "      <th>name</th>\n",
       "      <th>identity</th>\n",
       "      <th>protein</th>\n",
       "      <th>total_fat</th>\n",
       "      <th>total_sugars</th>\n",
       "      <th>vitamin_a</th>\n",
       "      <th>vitamin_b12</th>\n",
       "      <th>vitamin_b6</th>\n",
       "      <th>vitamin_c</th>\n",
       "      <th>vitamin_e</th>\n",
       "      <th>vitamin_k</th>\n",
       "      <th>calories</th>\n",
       "    </tr>\n",
       "  </thead>\n",
       "  <tbody>\n",
       "    <tr>\n",
       "      <th>0</th>\n",
       "      <td>מי גבינה, חומצי, נוזלי</td>\n",
       "      <td>1</td>\n",
       "      <td>0.8</td>\n",
       "      <td>0.1</td>\n",
       "      <td>5.1</td>\n",
       "      <td>7.0</td>\n",
       "      <td>0.18</td>\n",
       "      <td>0.04</td>\n",
       "      <td>0.1</td>\n",
       "      <td>0.0</td>\n",
       "      <td>0.00</td>\n",
       "      <td>24</td>\n",
       "    </tr>\n",
       "    <tr>\n",
       "      <th>1</th>\n",
       "      <td>בורגול, מבושל עם שעועית לבנה ועגבניות</td>\n",
       "      <td>2</td>\n",
       "      <td>5.3</td>\n",
       "      <td>1.7</td>\n",
       "      <td>1.0</td>\n",
       "      <td>0.9</td>\n",
       "      <td>0.00</td>\n",
       "      <td>0.10</td>\n",
       "      <td>4.2</td>\n",
       "      <td>0.4</td>\n",
       "      <td>4.47</td>\n",
       "      <td>112</td>\n",
       "    </tr>\n",
       "    <tr>\n",
       "      <th>2</th>\n",
       "      <td>חלב אם</td>\n",
       "      <td>3</td>\n",
       "      <td>1.0</td>\n",
       "      <td>4.4</td>\n",
       "      <td>6.9</td>\n",
       "      <td>NaN</td>\n",
       "      <td>0.05</td>\n",
       "      <td>0.01</td>\n",
       "      <td>5.0</td>\n",
       "      <td>0.1</td>\n",
       "      <td>0.30</td>\n",
       "      <td>70</td>\n",
       "    </tr>\n",
       "    <tr>\n",
       "      <th>3</th>\n",
       "      <td>חלב 3% שומן, תנובה, טרה, הרדוף, יטבתה</td>\n",
       "      <td>4</td>\n",
       "      <td>3.3</td>\n",
       "      <td>3.0</td>\n",
       "      <td>4.6</td>\n",
       "      <td>149.5</td>\n",
       "      <td>0.45</td>\n",
       "      <td>0.04</td>\n",
       "      <td>0.0</td>\n",
       "      <td>0.1</td>\n",
       "      <td>0.28</td>\n",
       "      <td>60</td>\n",
       "    </tr>\n",
       "    <tr>\n",
       "      <th>4</th>\n",
       "      <td>חלב 1% שומן בקרטון מועשר ויטמין A,D, וסידן</td>\n",
       "      <td>5</td>\n",
       "      <td>3.0</td>\n",
       "      <td>1.0</td>\n",
       "      <td>4.6</td>\n",
       "      <td>202.1</td>\n",
       "      <td>0.43</td>\n",
       "      <td>0.03</td>\n",
       "      <td>0.0</td>\n",
       "      <td>0.0</td>\n",
       "      <td>0.10</td>\n",
       "      <td>42</td>\n",
       "    </tr>\n",
       "  </tbody>\n",
       "</table>\n",
       "</div>"
      ],
      "text/plain": [
       "                                          name  identity  protein  total_fat  \\\n",
       "0                       מי גבינה, חומצי, נוזלי         1      0.8        0.1   \n",
       "1        בורגול, מבושל עם שעועית לבנה ועגבניות         2      5.3        1.7   \n",
       "2                                       חלב אם         3      1.0        4.4   \n",
       "3        חלב 3% שומן, תנובה, טרה, הרדוף, יטבתה         4      3.3        3.0   \n",
       "4  חלב 1% שומן בקרטון מועשר ויטמין A,D, וסידן          5      3.0        1.0   \n",
       "\n",
       "   total_sugars  vitamin_a  vitamin_b12  vitamin_b6  vitamin_c  vitamin_e  \\\n",
       "0           5.1        7.0         0.18        0.04        0.1        0.0   \n",
       "1           1.0        0.9         0.00        0.10        4.2        0.4   \n",
       "2           6.9        NaN         0.05        0.01        5.0        0.1   \n",
       "3           4.6      149.5         0.45        0.04        0.0        0.1   \n",
       "4           4.6      202.1         0.43        0.03        0.0        0.0   \n",
       "\n",
       "   vitamin_k  calories  \n",
       "0       0.00        24  \n",
       "1       4.47       112  \n",
       "2       0.30        70  \n",
       "3       0.28        60  \n",
       "4       0.10        42  "
      ]
     },
     "execution_count": 7,
     "metadata": {},
     "output_type": "execute_result"
    }
   ],
   "source": [
    "newDataFrame.head()"
   ]
  },
  {
   "cell_type": "markdown",
   "metadata": {},
   "source": [
    "## We will drop the \"name\" column as well as  \"identity\"  because they are irrelevant"
   ]
  },
  {
   "cell_type": "code",
   "execution_count": 8,
   "metadata": {},
   "outputs": [],
   "source": [
    "DataFrame=newDataFrame.drop(['name','identity'],axis='columns')"
   ]
  },
  {
   "cell_type": "code",
   "execution_count": 9,
   "metadata": {},
   "outputs": [
    {
     "data": {
      "text/html": [
       "<div>\n",
       "<style scoped>\n",
       "    .dataframe tbody tr th:only-of-type {\n",
       "        vertical-align: middle;\n",
       "    }\n",
       "\n",
       "    .dataframe tbody tr th {\n",
       "        vertical-align: top;\n",
       "    }\n",
       "\n",
       "    .dataframe thead th {\n",
       "        text-align: right;\n",
       "    }\n",
       "</style>\n",
       "<table border=\"1\" class=\"dataframe\">\n",
       "  <thead>\n",
       "    <tr style=\"text-align: right;\">\n",
       "      <th></th>\n",
       "      <th>protein</th>\n",
       "      <th>total_fat</th>\n",
       "      <th>total_sugars</th>\n",
       "      <th>vitamin_a</th>\n",
       "      <th>vitamin_b12</th>\n",
       "      <th>vitamin_b6</th>\n",
       "      <th>vitamin_c</th>\n",
       "      <th>vitamin_e</th>\n",
       "      <th>vitamin_k</th>\n",
       "      <th>calories</th>\n",
       "    </tr>\n",
       "  </thead>\n",
       "  <tbody>\n",
       "    <tr>\n",
       "      <th>0</th>\n",
       "      <td>0.8</td>\n",
       "      <td>0.1</td>\n",
       "      <td>5.1</td>\n",
       "      <td>7.0</td>\n",
       "      <td>0.18</td>\n",
       "      <td>0.04</td>\n",
       "      <td>0.1</td>\n",
       "      <td>0.0</td>\n",
       "      <td>0.00</td>\n",
       "      <td>24</td>\n",
       "    </tr>\n",
       "    <tr>\n",
       "      <th>1</th>\n",
       "      <td>5.3</td>\n",
       "      <td>1.7</td>\n",
       "      <td>1.0</td>\n",
       "      <td>0.9</td>\n",
       "      <td>0.00</td>\n",
       "      <td>0.10</td>\n",
       "      <td>4.2</td>\n",
       "      <td>0.4</td>\n",
       "      <td>4.47</td>\n",
       "      <td>112</td>\n",
       "    </tr>\n",
       "    <tr>\n",
       "      <th>2</th>\n",
       "      <td>1.0</td>\n",
       "      <td>4.4</td>\n",
       "      <td>6.9</td>\n",
       "      <td>NaN</td>\n",
       "      <td>0.05</td>\n",
       "      <td>0.01</td>\n",
       "      <td>5.0</td>\n",
       "      <td>0.1</td>\n",
       "      <td>0.30</td>\n",
       "      <td>70</td>\n",
       "    </tr>\n",
       "    <tr>\n",
       "      <th>3</th>\n",
       "      <td>3.3</td>\n",
       "      <td>3.0</td>\n",
       "      <td>4.6</td>\n",
       "      <td>149.5</td>\n",
       "      <td>0.45</td>\n",
       "      <td>0.04</td>\n",
       "      <td>0.0</td>\n",
       "      <td>0.1</td>\n",
       "      <td>0.28</td>\n",
       "      <td>60</td>\n",
       "    </tr>\n",
       "    <tr>\n",
       "      <th>4</th>\n",
       "      <td>3.0</td>\n",
       "      <td>1.0</td>\n",
       "      <td>4.6</td>\n",
       "      <td>202.1</td>\n",
       "      <td>0.43</td>\n",
       "      <td>0.03</td>\n",
       "      <td>0.0</td>\n",
       "      <td>0.0</td>\n",
       "      <td>0.10</td>\n",
       "      <td>42</td>\n",
       "    </tr>\n",
       "  </tbody>\n",
       "</table>\n",
       "</div>"
      ],
      "text/plain": [
       "   protein  total_fat  total_sugars  vitamin_a  vitamin_b12  vitamin_b6  \\\n",
       "0      0.8        0.1           5.1        7.0         0.18        0.04   \n",
       "1      5.3        1.7           1.0        0.9         0.00        0.10   \n",
       "2      1.0        4.4           6.9        NaN         0.05        0.01   \n",
       "3      3.3        3.0           4.6      149.5         0.45        0.04   \n",
       "4      3.0        1.0           4.6      202.1         0.43        0.03   \n",
       "\n",
       "   vitamin_c  vitamin_e  vitamin_k  calories  \n",
       "0        0.1        0.0       0.00        24  \n",
       "1        4.2        0.4       4.47       112  \n",
       "2        5.0        0.1       0.30        70  \n",
       "3        0.0        0.1       0.28        60  \n",
       "4        0.0        0.0       0.10        42  "
      ]
     },
     "execution_count": 9,
     "metadata": {},
     "output_type": "execute_result"
    }
   ],
   "source": [
    "DataFrame.head(5)"
   ]
  },
  {
   "cell_type": "code",
   "execution_count": 10,
   "metadata": {},
   "outputs": [
    {
     "data": {
      "image/png": "[encoded data removed]",
      "text/plain": [
       "<Figure size 720x1080 with 12 Axes>"
      ]
     },
     "metadata": {
      "needs_background": "light"
     },
     "output_type": "display_data"
    }
   ],
   "source": [
    "DataFrame.hist(bins=20, figsize=(10,15))\n",
    "plt.show()"
   ]
  },
  {
   "cell_type": "code",
   "execution_count": 11,
   "metadata": {},
   "outputs": [
    {
     "data": {
      "text/html": [
       "<div>\n",
       "<style scoped>\n",
       "    .dataframe tbody tr th:only-of-type {\n",
       "        vertical-align: middle;\n",
       "    }\n",
       "\n",
       "    .dataframe tbody tr th {\n",
       "        vertical-align: top;\n",
       "    }\n",
       "\n",
       "    .dataframe thead th {\n",
       "        text-align: right;\n",
       "    }\n",
       "</style>\n",
       "<table border=\"1\" class=\"dataframe\">\n",
       "  <thead>\n",
       "    <tr style=\"text-align: right;\">\n",
       "      <th></th>\n",
       "      <th>protein</th>\n",
       "      <th>total_fat</th>\n",
       "      <th>total_sugars</th>\n",
       "      <th>vitamin_a</th>\n",
       "      <th>vitamin_b12</th>\n",
       "      <th>vitamin_b6</th>\n",
       "      <th>vitamin_c</th>\n",
       "      <th>vitamin_e</th>\n",
       "      <th>vitamin_k</th>\n",
       "      <th>calories</th>\n",
       "    </tr>\n",
       "  </thead>\n",
       "  <tbody>\n",
       "    <tr>\n",
       "      <th>count</th>\n",
       "      <td>4633.000000</td>\n",
       "      <td>4633.000000</td>\n",
       "      <td>4243.000000</td>\n",
       "      <td>2640.000000</td>\n",
       "      <td>4219.000000</td>\n",
       "      <td>4237.000000</td>\n",
       "      <td>4231.000000</td>\n",
       "      <td>3982.000000</td>\n",
       "      <td>3704.000000</td>\n",
       "      <td>4633.000000</td>\n",
       "    </tr>\n",
       "    <tr>\n",
       "      <th>mean</th>\n",
       "      <td>8.404446</td>\n",
       "      <td>10.040471</td>\n",
       "      <td>8.709922</td>\n",
       "      <td>469.589015</td>\n",
       "      <td>0.730574</td>\n",
       "      <td>0.197996</td>\n",
       "      <td>8.637060</td>\n",
       "      <td>1.353039</td>\n",
       "      <td>18.579341</td>\n",
       "      <td>213.871358</td>\n",
       "    </tr>\n",
       "    <tr>\n",
       "      <th>std</th>\n",
       "      <td>8.822852</td>\n",
       "      <td>14.156297</td>\n",
       "      <td>15.292708</td>\n",
       "      <td>2736.777202</td>\n",
       "      <td>3.393107</td>\n",
       "      <td>0.374223</td>\n",
       "      <td>25.546128</td>\n",
       "      <td>3.880564</td>\n",
       "      <td>83.001037</td>\n",
       "      <td>166.370414</td>\n",
       "    </tr>\n",
       "    <tr>\n",
       "      <th>min</th>\n",
       "      <td>0.000000</td>\n",
       "      <td>0.000000</td>\n",
       "      <td>0.000000</td>\n",
       "      <td>0.000000</td>\n",
       "      <td>0.000000</td>\n",
       "      <td>0.000000</td>\n",
       "      <td>0.000000</td>\n",
       "      <td>0.000000</td>\n",
       "      <td>0.000000</td>\n",
       "      <td>0.000000</td>\n",
       "    </tr>\n",
       "    <tr>\n",
       "      <th>25%</th>\n",
       "      <td>1.700000</td>\n",
       "      <td>1.000000</td>\n",
       "      <td>0.600000</td>\n",
       "      <td>0.000000</td>\n",
       "      <td>0.000000</td>\n",
       "      <td>0.050000</td>\n",
       "      <td>0.000000</td>\n",
       "      <td>0.200000</td>\n",
       "      <td>0.700000</td>\n",
       "      <td>82.000000</td>\n",
       "    </tr>\n",
       "    <tr>\n",
       "      <th>50%</th>\n",
       "      <td>5.700000</td>\n",
       "      <td>5.000000</td>\n",
       "      <td>2.500000</td>\n",
       "      <td>16.800000</td>\n",
       "      <td>0.060000</td>\n",
       "      <td>0.110000</td>\n",
       "      <td>1.000000</td>\n",
       "      <td>0.600000</td>\n",
       "      <td>3.900000</td>\n",
       "      <td>169.000000</td>\n",
       "    </tr>\n",
       "    <tr>\n",
       "      <th>75%</th>\n",
       "      <td>12.000000</td>\n",
       "      <td>13.900000</td>\n",
       "      <td>8.600000</td>\n",
       "      <td>155.350000</td>\n",
       "      <td>0.450000</td>\n",
       "      <td>0.230000</td>\n",
       "      <td>7.400000</td>\n",
       "      <td>1.300000</td>\n",
       "      <td>13.160000</td>\n",
       "      <td>320.000000</td>\n",
       "    </tr>\n",
       "    <tr>\n",
       "      <th>max</th>\n",
       "      <td>85.600000</td>\n",
       "      <td>100.000000</td>\n",
       "      <td>99.800000</td>\n",
       "      <td>66989.000000</td>\n",
       "      <td>76.500000</td>\n",
       "      <td>12.000000</td>\n",
       "      <td>694.000000</td>\n",
       "      <td>149.400000</td>\n",
       "      <td>2262.800000</td>\n",
       "      <td>902.000000</td>\n",
       "    </tr>\n",
       "  </tbody>\n",
       "</table>\n",
       "</div>"
      ],
      "text/plain": [
       "           protein    total_fat  total_sugars     vitamin_a  vitamin_b12  \\\n",
       "count  4633.000000  4633.000000   4243.000000   2640.000000  4219.000000   \n",
       "mean      8.404446    10.040471      8.709922    469.589015     0.730574   \n",
       "std       8.822852    14.156297     15.292708   2736.777202     3.393107   \n",
       "min       0.000000     0.000000      0.000000      0.000000     0.000000   \n",
       "25%       1.700000     1.000000      0.600000      0.000000     0.000000   \n",
       "50%       5.700000     5.000000      2.500000     16.800000     0.060000   \n",
       "75%      12.000000    13.900000      8.600000    155.350000     0.450000   \n",
       "max      85.600000   100.000000     99.800000  66989.000000    76.500000   \n",
       "\n",
       "        vitamin_b6    vitamin_c    vitamin_e    vitamin_k     calories  \n",
       "count  4237.000000  4231.000000  3982.000000  3704.000000  4633.000000  \n",
       "mean      0.197996     8.637060     1.353039    18.579341   213.871358  \n",
       "std       0.374223    25.546128     3.880564    83.001037   166.370414  \n",
       "min       0.000000     0.000000     0.000000     0.000000     0.000000  \n",
       "25%       0.050000     0.000000     0.200000     0.700000    82.000000  \n",
       "50%       0.110000     1.000000     0.600000     3.900000   169.000000  \n",
       "75%       0.230000     7.400000     1.300000    13.160000   320.000000  \n",
       "max      12.000000   694.000000   149.400000  2262.800000   902.000000  "
      ]
     },
     "execution_count": 11,
     "metadata": {},
     "output_type": "execute_result"
    }
   ],
   "source": [
    "DataFrame.describe()"
   ]
  },
  {
   "cell_type": "markdown",
   "metadata": {},
   "source": [
    "## As we can see there are a lot of null values in our dataset, but before we take care of that we need to split our dataset into training and testing set :"
   ]
  },
  {
   "cell_type": "code",
   "execution_count": 12,
   "metadata": {},
   "outputs": [],
   "source": [
    "train_set, test_set = train_test_split(DataFrame, test_size=0.2, random_state=42)"
   ]
  },
  {
   "cell_type": "markdown",
   "metadata": {},
   "source": [
    "### We are going to leave the test set aside, and take a loot at our train set:"
   ]
  },
  {
   "cell_type": "markdown",
   "metadata": {},
   "source": [
    "# Checking for correlations in our train set:"
   ]
  },
  {
   "cell_type": "code",
   "execution_count": 13,
   "metadata": {},
   "outputs": [
    {
     "data": {
      "text/plain": [
       "calories        1.000000\n",
       "total_fat       0.810866\n",
       "vitamin_e       0.375924\n",
       "total_sugars    0.369364\n",
       "protein         0.213920\n",
       "vitamin_b6      0.108598\n",
       "vitamin_b12     0.031790\n",
       "vitamin_a      -0.005059\n",
       "vitamin_k      -0.023830\n",
       "vitamin_c      -0.094557\n",
       "Name: calories, dtype: float64"
      ]
     },
     "execution_count": 13,
     "metadata": {},
     "output_type": "execute_result"
    }
   ],
   "source": [
    "corr_matrix = train_set.corr()\n",
    "corr_matrix[\"calories\"].sort_values(ascending=False)"
   ]
  },
  {
   "cell_type": "code",
   "execution_count": 14,
   "metadata": {},
   "outputs": [
    {
     "data": {
      "text/plain": [
       "<seaborn.axisgrid.PairGrid at 0x2694b49dc10>"
      ]
     },
     "execution_count": 14,
     "metadata": {},
     "output_type": "execute_result"
    },
    {
     "data": {
      "image/png": "[encoded data removed]",
      "text/plain": [
       "<Figure size 806.4x288 with 4 Axes>"
      ]
     },
     "metadata": {
      "needs_background": "light"
     },
     "output_type": "display_data"
    }
   ],
   "source": [
    "sns.pairplot(train_set,x_vars=['total_fat','vitamin_e','protein','total_sugars'], y_vars='calories', \n",
    "             height=4, aspect = 0.7, kind='reg',dropna=True)"
   ]
  },
  {
   "cell_type": "code",
   "execution_count": 15,
   "metadata": {},
   "outputs": [
    {
     "data": {
      "text/plain": [
       "array([[<matplotlib.axes._subplots.AxesSubplot object at 0x000002694B7D3D00>,\n",
       "        <matplotlib.axes._subplots.AxesSubplot object at 0x000002694B80A790>,\n",
       "        <matplotlib.axes._subplots.AxesSubplot object at 0x000002694B832E50>,\n",
       "        <matplotlib.axes._subplots.AxesSubplot object at 0x000002694B863610>,\n",
       "        <matplotlib.axes._subplots.AxesSubplot object at 0x000002694B88BD90>],\n",
       "       [<matplotlib.axes._subplots.AxesSubplot object at 0x000002694B8BB490>,\n",
       "        <matplotlib.axes._subplots.AxesSubplot object at 0x000002694B8BB580>,\n",
       "        <matplotlib.axes._subplots.AxesSubplot object at 0x000002694B8E2D60>,\n",
       "        <matplotlib.axes._subplots.AxesSubplot object at 0x000002694B93CC10>,\n",
       "        <matplotlib.axes._subplots.AxesSubplot object at 0x000002694B9703D0>],\n",
       "       [<matplotlib.axes._subplots.AxesSubplot object at 0x000002694B996B50>,\n",
       "        <matplotlib.axes._subplots.AxesSubplot object at 0x000002694B9C9310>,\n",
       "        <matplotlib.axes._subplots.AxesSubplot object at 0x000002694B9F0A90>,\n",
       "        <matplotlib.axes._subplots.AxesSubplot object at 0x000002694BA21250>,\n",
       "        <matplotlib.axes._subplots.AxesSubplot object at 0x000002694BA479D0>],\n",
       "       [<matplotlib.axes._subplots.AxesSubplot object at 0x000002694BA7B190>,\n",
       "        <matplotlib.axes._subplots.AxesSubplot object at 0x000002694BAA1910>,\n",
       "        <matplotlib.axes._subplots.AxesSubplot object at 0x000002694BAC8130>,\n",
       "        <matplotlib.axes._subplots.AxesSubplot object at 0x000002694BAF9850>,\n",
       "        <matplotlib.axes._subplots.AxesSubplot object at 0x000002694BB22FD0>],\n",
       "       [<matplotlib.axes._subplots.AxesSubplot object at 0x000002694BB52790>,\n",
       "        <matplotlib.axes._subplots.AxesSubplot object at 0x000002694BB7BF10>,\n",
       "        <matplotlib.axes._subplots.AxesSubplot object at 0x000002694BBAD6D0>,\n",
       "        <matplotlib.axes._subplots.AxesSubplot object at 0x000002694BBD4E50>,\n",
       "        <matplotlib.axes._subplots.AxesSubplot object at 0x000002694BC06610>]],\n",
       "      dtype=object)"
      ]
     },
     "execution_count": 15,
     "metadata": {},
     "output_type": "execute_result"
    },
    {
     "data": {
      "image/png": "[encoded data removed]",
      "text/plain": [
       "<Figure size 864x576 with 25 Axes>"
      ]
     },
     "metadata": {
      "needs_background": "light"
     },
     "output_type": "display_data"
    }
   ],
   "source": [
    "attributes = ['total_fat','vitamin_e','protein','total_sugars','calories']\n",
    "scatter_matrix(train_set[attributes], figsize=(12, 8))"
   ]
  },
  {
   "cell_type": "markdown",
   "metadata": {},
   "source": [
    "## From looking at our correlations, we can see a strong correlation between the total fat and the calories:"
   ]
  },
  {
   "cell_type": "code",
   "execution_count": 16,
   "metadata": {},
   "outputs": [
    {
     "data": {
      "text/plain": [
       "<matplotlib.axes._subplots.AxesSubplot at 0x2694bc79250>"
      ]
     },
     "execution_count": 16,
     "metadata": {},
     "output_type": "execute_result"
    },
    {
     "data": {
      "image/png": "[encoded data removed]",
      "text/plain": [
       "<Figure size 432x288 with 1 Axes>"
      ]
     },
     "metadata": {
      "needs_background": "light"
     },
     "output_type": "display_data"
    }
   ],
   "source": [
    "train_set.plot(kind=\"scatter\", x=\"total_fat\", y=\"calories\",\n",
    " alpha=0.5)"
   ]
  },
  {
   "cell_type": "markdown",
   "metadata": {},
   "source": [
    "## Now let's prepare the data for our learning algorithm:"
   ]
  },
  {
   "cell_type": "markdown",
   "metadata": {},
   "source": [
    "### Let's check the state of our training set:"
   ]
  },
  {
   "cell_type": "code",
   "execution_count": 17,
   "metadata": {},
   "outputs": [
    {
     "data": {
      "text/plain": [
       "<matplotlib.axes._subplots.AxesSubplot at 0x2694b4284c0>"
      ]
     },
     "execution_count": 17,
     "metadata": {},
     "output_type": "execute_result"
    },
    {
     "data": {
      "image/png": "[encoded data removed]",
      "text/plain": [
       "<Figure size 432x288 with 2 Axes>"
      ]
     },
     "metadata": {
      "needs_background": "light"
     },
     "output_type": "display_data"
    }
   ],
   "source": [
    "sns.heatmap(train_set.isnull())"
   ]
  },
  {
   "cell_type": "markdown",
   "metadata": {},
   "source": [
    "## As we can see there are a lot of null values. We will take care of that by filling the values with 0:"
   ]
  },
  {
   "cell_type": "code",
   "execution_count": 18,
   "metadata": {},
   "outputs": [
    {
     "data": {
      "text/plain": [
       "<matplotlib.axes._subplots.AxesSubplot at 0x2694b03eb50>"
      ]
     },
     "execution_count": 18,
     "metadata": {},
     "output_type": "execute_result"
    },
    {
     "data": {
      "image/png": "[encoded data removed]",
      "text/plain": [
       "<Figure size 432x288 with 2 Axes>"
      ]
     },
     "metadata": {
      "needs_background": "light"
     },
     "output_type": "display_data"
    }
   ],
   "source": [
    "train_set=train_set.fillna(0)\n",
    "sns.heatmap(train_set.isnull())"
   ]
  },
  {
   "cell_type": "markdown",
   "metadata": {},
   "source": [
    "## We also know that the vitamins are measured in milligrams, so to get back into grams lets devide the cells by 1000:"
   ]
  },
  {
   "cell_type": "code",
   "execution_count": 19,
   "metadata": {},
   "outputs": [],
   "source": [
    "attributes=['vitamin_a','vitamin_b12','vitamin_b6','vitamin_c','vitamin_e','vitamin_k']\n",
    "for i in attributes:\n",
    "    train_set[i]=train_set[i]/1000"
   ]
  },
  {
   "cell_type": "code",
   "execution_count": 20,
   "metadata": {},
   "outputs": [
    {
     "data": {
      "text/html": [
       "<div>\n",
       "<style scoped>\n",
       "    .dataframe tbody tr th:only-of-type {\n",
       "        vertical-align: middle;\n",
       "    }\n",
       "\n",
       "    .dataframe tbody tr th {\n",
       "        vertical-align: top;\n",
       "    }\n",
       "\n",
       "    .dataframe thead th {\n",
       "        text-align: right;\n",
       "    }\n",
       "</style>\n",
       "<table border=\"1\" class=\"dataframe\">\n",
       "  <thead>\n",
       "    <tr style=\"text-align: right;\">\n",
       "      <th></th>\n",
       "      <th>protein</th>\n",
       "      <th>total_fat</th>\n",
       "      <th>total_sugars</th>\n",
       "      <th>vitamin_a</th>\n",
       "      <th>vitamin_b12</th>\n",
       "      <th>vitamin_b6</th>\n",
       "      <th>vitamin_c</th>\n",
       "      <th>vitamin_e</th>\n",
       "      <th>vitamin_k</th>\n",
       "      <th>calories</th>\n",
       "    </tr>\n",
       "  </thead>\n",
       "  <tbody>\n",
       "    <tr>\n",
       "      <th>881</th>\n",
       "      <td>18.9</td>\n",
       "      <td>0.9</td>\n",
       "      <td>0.0</td>\n",
       "      <td>0.0000</td>\n",
       "      <td>0.00142</td>\n",
       "      <td>0.00012</td>\n",
       "      <td>0.0000</td>\n",
       "      <td>0.0010</td>\n",
       "      <td>0.00000</td>\n",
       "      <td>88</td>\n",
       "    </tr>\n",
       "    <tr>\n",
       "      <th>1501</th>\n",
       "      <td>5.2</td>\n",
       "      <td>32.2</td>\n",
       "      <td>34.3</td>\n",
       "      <td>0.0000</td>\n",
       "      <td>0.00007</td>\n",
       "      <td>0.00012</td>\n",
       "      <td>0.0005</td>\n",
       "      <td>0.0003</td>\n",
       "      <td>0.00140</td>\n",
       "      <td>531</td>\n",
       "    </tr>\n",
       "    <tr>\n",
       "      <th>1204</th>\n",
       "      <td>8.3</td>\n",
       "      <td>1.7</td>\n",
       "      <td>1.1</td>\n",
       "      <td>0.0000</td>\n",
       "      <td>0.00000</td>\n",
       "      <td>0.00007</td>\n",
       "      <td>0.0000</td>\n",
       "      <td>0.0001</td>\n",
       "      <td>0.00084</td>\n",
       "      <td>264</td>\n",
       "    </tr>\n",
       "    <tr>\n",
       "      <th>2223</th>\n",
       "      <td>4.8</td>\n",
       "      <td>1.4</td>\n",
       "      <td>0.5</td>\n",
       "      <td>9.0011</td>\n",
       "      <td>0.00000</td>\n",
       "      <td>0.00028</td>\n",
       "      <td>0.0361</td>\n",
       "      <td>0.0001</td>\n",
       "      <td>0.00052</td>\n",
       "      <td>62</td>\n",
       "    </tr>\n",
       "    <tr>\n",
       "      <th>4018</th>\n",
       "      <td>1.5</td>\n",
       "      <td>1.4</td>\n",
       "      <td>3.1</td>\n",
       "      <td>0.0000</td>\n",
       "      <td>0.00000</td>\n",
       "      <td>0.00020</td>\n",
       "      <td>0.0211</td>\n",
       "      <td>0.0003</td>\n",
       "      <td>0.00587</td>\n",
       "      <td>31</td>\n",
       "    </tr>\n",
       "  </tbody>\n",
       "</table>\n",
       "</div>"
      ],
      "text/plain": [
       "      protein  total_fat  total_sugars  vitamin_a  vitamin_b12  vitamin_b6  \\\n",
       "881      18.9        0.9           0.0     0.0000      0.00142     0.00012   \n",
       "1501      5.2       32.2          34.3     0.0000      0.00007     0.00012   \n",
       "1204      8.3        1.7           1.1     0.0000      0.00000     0.00007   \n",
       "2223      4.8        1.4           0.5     9.0011      0.00000     0.00028   \n",
       "4018      1.5        1.4           3.1     0.0000      0.00000     0.00020   \n",
       "\n",
       "      vitamin_c  vitamin_e  vitamin_k  calories  \n",
       "881      0.0000     0.0010    0.00000        88  \n",
       "1501     0.0005     0.0003    0.00140       531  \n",
       "1204     0.0000     0.0001    0.00084       264  \n",
       "2223     0.0361     0.0001    0.00052        62  \n",
       "4018     0.0211     0.0003    0.00587        31  "
      ]
     },
     "execution_count": 20,
     "metadata": {},
     "output_type": "execute_result"
    }
   ],
   "source": [
    "train_set.head()"
   ]
  },
  {
   "cell_type": "markdown",
   "metadata": {},
   "source": [
    "# Our data is scaled and filled, it is ready for our learning algorithm:"
   ]
  },
  {
   "cell_type": "markdown",
   "metadata": {},
   "source": [
    "## Because we need to predict a value, we need to use a regression algorithm:"
   ]
  },
  {
   "cell_type": "code",
   "execution_count": 21,
   "metadata": {},
   "outputs": [],
   "source": [
    "nutrition = train_set.drop(\"calories\", axis=1)\n",
    "nutrition_lables=train_set[\"calories\"].copy()"
   ]
  },
  {
   "cell_type": "code",
   "execution_count": 22,
   "metadata": {},
   "outputs": [
    {
     "data": {
      "text/plain": [
       "LinearRegression()"
      ]
     },
     "execution_count": 22,
     "metadata": {},
     "output_type": "execute_result"
    }
   ],
   "source": [
    "lin_reg=LinearRegression()\n",
    "lin_reg.fit(nutrition,nutrition_lables)"
   ]
  },
  {
   "cell_type": "markdown",
   "metadata": {},
   "source": [
    "## Prediction vs Real"
   ]
  },
  {
   "cell_type": "markdown",
   "metadata": {},
   "source": [
    "### Prediction:"
   ]
  },
  {
   "cell_type": "code",
   "execution_count": 23,
   "metadata": {},
   "outputs": [],
   "source": [
    "predictions=lin_reg.predict(nutrition)"
   ]
  },
  {
   "cell_type": "code",
   "execution_count": 24,
   "metadata": {},
   "outputs": [
    {
     "data": {
      "text/plain": [
       "array([134.12554435, 499.51333396, 110.77112848, ..., 163.11612018,\n",
       "       198.59018884, 188.03008381])"
      ]
     },
     "execution_count": 24,
     "metadata": {},
     "output_type": "execute_result"
    }
   ],
   "source": [
    "predictions"
   ]
  },
  {
   "cell_type": "markdown",
   "metadata": {},
   "source": [
    "### Real:"
   ]
  },
  {
   "cell_type": "code",
   "execution_count": 25,
   "metadata": {},
   "outputs": [
    {
     "data": {
      "text/plain": [
       "array([ 88, 531, 264, ..., 315, 140, 114], dtype=int64)"
      ]
     },
     "execution_count": 25,
     "metadata": {},
     "output_type": "execute_result"
    }
   ],
   "source": [
    "np.array(nutrition_lables)"
   ]
  },
  {
   "cell_type": "code",
   "execution_count": 26,
   "metadata": {},
   "outputs": [
    {
     "data": {
      "text/plain": [
       "0.7846064067133084"
      ]
     },
     "execution_count": 26,
     "metadata": {},
     "output_type": "execute_result"
    }
   ],
   "source": [
    "scores=r2_score(nutrition_lables,predictions)\n",
    "scores"
   ]
  },
  {
   "cell_type": "markdown",
   "metadata": {},
   "source": [
    "## We can see that the R^2 is 0.78 which is okay, let's see if we can improve our model using cross validation ParamGridCV"
   ]
  },
  {
   "cell_type": "code",
   "execution_count": 27,
   "metadata": {},
   "outputs": [
    {
     "data": {
      "text/plain": [
       "0.7813207920921588"
      ]
     },
     "execution_count": 27,
     "metadata": {},
     "output_type": "execute_result"
    }
   ],
   "source": [
    "scores_arr = cross_val_score(lin_reg, nutrition,nutrition_lables,\n",
    " scoring=\"r2\", cv=10)\n",
    "scores_arr.mean()"
   ]
  },
  {
   "cell_type": "code",
   "execution_count": 28,
   "metadata": {},
   "outputs": [
    {
     "data": {
      "text/plain": [
       "GridSearchCV(cv=10, estimator=LinearRegression(),\n",
       "             param_grid=[{'copy_X': [True, False],\n",
       "                          'fit_intercept': [True, False],\n",
       "                          'n_jobs': [0, 5, 10, 100, 1000],\n",
       "                          'normalize': [True, False]}],\n",
       "             return_train_score=True, scoring='r2')"
      ]
     },
     "execution_count": 28,
     "metadata": {},
     "output_type": "execute_result"
    }
   ],
   "source": [
    "param_grid = [\n",
    " {'fit_intercept': [True,False], 'normalize': [True,False],\n",
    " 'copy_X': [True,False], 'n_jobs':[0,5,10,100,1000]},\n",
    " ]\n",
    "new_lin_reg=LinearRegression()\n",
    "grid_search=GridSearchCV(new_lin_reg,param_grid,cv=10,scoring='r2',return_train_score=True)\n",
    "grid_search.fit(nutrition,nutrition_lables)"
   ]
  },
  {
   "cell_type": "code",
   "execution_count": 29,
   "metadata": {},
   "outputs": [
    {
     "data": {
      "text/plain": [
       "{'copy_X': True, 'fit_intercept': True, 'n_jobs': 0, 'normalize': True}"
      ]
     },
     "execution_count": 29,
     "metadata": {},
     "output_type": "execute_result"
    }
   ],
   "source": [
    "grid_search.best_params_"
   ]
  },
  {
   "cell_type": "code",
   "execution_count": 30,
   "metadata": {},
   "outputs": [
    {
     "data": {
      "text/plain": [
       "LinearRegression(n_jobs=0, normalize=True)"
      ]
     },
     "execution_count": 30,
     "metadata": {},
     "output_type": "execute_result"
    }
   ],
   "source": [
    "grid_search.best_estimator_"
   ]
  },
  {
   "cell_type": "code",
   "execution_count": 31,
   "metadata": {},
   "outputs": [
    {
     "name": "stdout",
     "output_type": "stream",
     "text": [
      "0.7813207920921588 {'copy_X': True, 'fit_intercept': True, 'n_jobs': 0, 'normalize': True}\n",
      "0.7813207920921588 {'copy_X': True, 'fit_intercept': True, 'n_jobs': 0, 'normalize': False}\n",
      "0.7813207920921588 {'copy_X': True, 'fit_intercept': True, 'n_jobs': 5, 'normalize': True}\n",
      "0.7813207920921588 {'copy_X': True, 'fit_intercept': True, 'n_jobs': 5, 'normalize': False}\n",
      "0.7813207920921588 {'copy_X': True, 'fit_intercept': True, 'n_jobs': 10, 'normalize': True}\n",
      "0.7813207920921588 {'copy_X': True, 'fit_intercept': True, 'n_jobs': 10, 'normalize': False}\n",
      "0.7813207920921588 {'copy_X': True, 'fit_intercept': True, 'n_jobs': 100, 'normalize': True}\n",
      "0.7813207920921588 {'copy_X': True, 'fit_intercept': True, 'n_jobs': 100, 'normalize': False}\n",
      "0.7813207920921588 {'copy_X': True, 'fit_intercept': True, 'n_jobs': 1000, 'normalize': True}\n",
      "0.7813207920921588 {'copy_X': True, 'fit_intercept': True, 'n_jobs': 1000, 'normalize': False}\n",
      "0.7358242670182602 {'copy_X': True, 'fit_intercept': False, 'n_jobs': 0, 'normalize': True}\n",
      "0.7358242670182602 {'copy_X': True, 'fit_intercept': False, 'n_jobs': 0, 'normalize': False}\n",
      "0.7358242670182602 {'copy_X': True, 'fit_intercept': False, 'n_jobs': 5, 'normalize': True}\n",
      "0.7358242670182602 {'copy_X': True, 'fit_intercept': False, 'n_jobs': 5, 'normalize': False}\n",
      "0.7358242670182602 {'copy_X': True, 'fit_intercept': False, 'n_jobs': 10, 'normalize': True}\n",
      "0.7358242670182602 {'copy_X': True, 'fit_intercept': False, 'n_jobs': 10, 'normalize': False}\n",
      "0.7358242670182602 {'copy_X': True, 'fit_intercept': False, 'n_jobs': 100, 'normalize': True}\n",
      "0.7358242670182602 {'copy_X': True, 'fit_intercept': False, 'n_jobs': 100, 'normalize': False}\n",
      "0.7358242670182602 {'copy_X': True, 'fit_intercept': False, 'n_jobs': 1000, 'normalize': True}\n",
      "0.7358242670182602 {'copy_X': True, 'fit_intercept': False, 'n_jobs': 1000, 'normalize': False}\n",
      "0.7813207920921588 {'copy_X': False, 'fit_intercept': True, 'n_jobs': 0, 'normalize': True}\n",
      "0.7813207920921588 {'copy_X': False, 'fit_intercept': True, 'n_jobs': 0, 'normalize': False}\n",
      "0.7813207920921588 {'copy_X': False, 'fit_intercept': True, 'n_jobs': 5, 'normalize': True}\n",
      "0.7813207920921588 {'copy_X': False, 'fit_intercept': True, 'n_jobs': 5, 'normalize': False}\n",
      "0.7813207920921588 {'copy_X': False, 'fit_intercept': True, 'n_jobs': 10, 'normalize': True}\n",
      "0.7813207920921588 {'copy_X': False, 'fit_intercept': True, 'n_jobs': 10, 'normalize': False}\n",
      "0.7813207920921588 {'copy_X': False, 'fit_intercept': True, 'n_jobs': 100, 'normalize': True}\n",
      "0.7813207920921588 {'copy_X': False, 'fit_intercept': True, 'n_jobs': 100, 'normalize': False}\n",
      "0.7813207920921588 {'copy_X': False, 'fit_intercept': True, 'n_jobs': 1000, 'normalize': True}\n",
      "0.7813207920921588 {'copy_X': False, 'fit_intercept': True, 'n_jobs': 1000, 'normalize': False}\n",
      "0.7358242670182602 {'copy_X': False, 'fit_intercept': False, 'n_jobs': 0, 'normalize': True}\n",
      "0.7358242670182602 {'copy_X': False, 'fit_intercept': False, 'n_jobs': 0, 'normalize': False}\n",
      "0.7358242670182602 {'copy_X': False, 'fit_intercept': False, 'n_jobs': 5, 'normalize': True}\n",
      "0.7358242670182602 {'copy_X': False, 'fit_intercept': False, 'n_jobs': 5, 'normalize': False}\n",
      "0.7358242670182602 {'copy_X': False, 'fit_intercept': False, 'n_jobs': 10, 'normalize': True}\n",
      "0.7358242670182602 {'copy_X': False, 'fit_intercept': False, 'n_jobs': 10, 'normalize': False}\n",
      "0.7358242670182602 {'copy_X': False, 'fit_intercept': False, 'n_jobs': 100, 'normalize': True}\n",
      "0.7358242670182602 {'copy_X': False, 'fit_intercept': False, 'n_jobs': 100, 'normalize': False}\n",
      "0.7358242670182602 {'copy_X': False, 'fit_intercept': False, 'n_jobs': 1000, 'normalize': True}\n",
      "0.7358242670182602 {'copy_X': False, 'fit_intercept': False, 'n_jobs': 1000, 'normalize': False}\n"
     ]
    }
   ],
   "source": [
    "cvres = grid_search.cv_results_\n",
    "for mean_score, params in zip(cvres[\"mean_test_score\"], cvres[\"params\"]):\n",
    "    print(mean_score, params)"
   ]
  },
  {
   "cell_type": "markdown",
   "metadata": {},
   "source": [
    "## Our model seems to be performing worse after using cross validation, let's try a different model:"
   ]
  },
  {
   "cell_type": "code",
   "execution_count": 32,
   "metadata": {},
   "outputs": [
    {
     "data": {
      "text/plain": [
       "DecisionTreeRegressor()"
      ]
     },
     "execution_count": 32,
     "metadata": {},
     "output_type": "execute_result"
    }
   ],
   "source": [
    "tree_reg=DecisionTreeRegressor()\n",
    "tree_reg.fit(nutrition,nutrition_lables)"
   ]
  },
  {
   "cell_type": "code",
   "execution_count": 33,
   "metadata": {},
   "outputs": [],
   "source": [
    "predictions=tree_reg.predict(nutrition)"
   ]
  },
  {
   "cell_type": "code",
   "execution_count": 34,
   "metadata": {},
   "outputs": [
    {
     "data": {
      "text/plain": [
       "array([ 88., 531., 264., ..., 315., 140., 114.])"
      ]
     },
     "execution_count": 34,
     "metadata": {},
     "output_type": "execute_result"
    }
   ],
   "source": [
    "predictions"
   ]
  },
  {
   "cell_type": "code",
   "execution_count": 35,
   "metadata": {
    "scrolled": true
   },
   "outputs": [
    {
     "data": {
      "text/plain": [
       "array([ 88, 531, 264, ..., 315, 140, 114], dtype=int64)"
      ]
     },
     "execution_count": 35,
     "metadata": {},
     "output_type": "execute_result"
    }
   ],
   "source": [
    "np.array(nutrition_lables)"
   ]
  },
  {
   "cell_type": "code",
   "execution_count": 36,
   "metadata": {},
   "outputs": [
    {
     "data": {
      "text/plain": [
       "0.9880783458873601"
      ]
     },
     "execution_count": 36,
     "metadata": {},
     "output_type": "execute_result"
    }
   ],
   "source": [
    "scores=r2_score(nutrition_lables,predictions)\n",
    "scores"
   ]
  },
  {
   "cell_type": "markdown",
   "metadata": {},
   "source": [
    "## Using Cross-Validation on the decision tree:"
   ]
  },
  {
   "cell_type": "code",
   "execution_count": 37,
   "metadata": {},
   "outputs": [
    {
     "data": {
      "text/plain": [
       "0.8369750091004763"
      ]
     },
     "execution_count": 37,
     "metadata": {},
     "output_type": "execute_result"
    }
   ],
   "source": [
    "scores_arr = cross_val_score(tree_reg, nutrition,nutrition_lables,\n",
    " scoring=\"r2\", cv=10)\n",
    "scores_arr.mean()"
   ]
  },
  {
   "cell_type": "markdown",
   "metadata": {},
   "source": [
    "## Fine tuning our model again using grid search:\n"
   ]
  },
  {
   "cell_type": "code",
   "execution_count": 38,
   "metadata": {},
   "outputs": [
    {
     "data": {
      "text/plain": [
       "GridSearchCV(cv=5, estimator=DecisionTreeRegressor(),\n",
       "             param_grid=[{'max_features': [1, 2, 3, 4, 5, 6, 7, 8, 9],\n",
       "                          'min_samples_leaf': [1, 2, 3, 4, 5],\n",
       "                          'min_samples_split': [2, 3, 4, 5],\n",
       "                          'splitter': ['best', 'random']}],\n",
       "             return_train_score=True, scoring='r2')"
      ]
     },
     "execution_count": 38,
     "metadata": {},
     "output_type": "execute_result"
    }
   ],
   "source": [
    "param_grid = [\n",
    " {'splitter': ['best','random'],'min_samples_split': [2,3,4,5],\n",
    " 'min_samples_leaf': [1,2,3,4,5],'max_features':[1,2,3,4,5,6,7,8,9]},\n",
    " ]\n",
    "new_tree_reg=DecisionTreeRegressor()\n",
    "grid_search=GridSearchCV(new_tree_reg,param_grid,cv=5,scoring='r2',return_train_score=True)\n",
    "grid_search.fit(nutrition,nutrition_lables)"
   ]
  },
  {
   "cell_type": "code",
   "execution_count": 39,
   "metadata": {
    "scrolled": false
   },
   "outputs": [
    {
     "name": "stdout",
     "output_type": "stream",
     "text": [
      "0.6946884629507644 {'max_features': 1, 'min_samples_leaf': 1, 'min_samples_split': 2, 'splitter': 'best'}\n",
      "0.6693391733346401 {'max_features': 1, 'min_samples_leaf': 1, 'min_samples_split': 2, 'splitter': 'random'}\n",
      "0.641474438974757 {'max_features': 1, 'min_samples_leaf': 1, 'min_samples_split': 3, 'splitter': 'best'}\n",
      "0.7031804114674717 {'max_features': 1, 'min_samples_leaf': 1, 'min_samples_split': 3, 'splitter': 'random'}\n",
      "0.6634364243069084 {'max_features': 1, 'min_samples_leaf': 1, 'min_samples_split': 4, 'splitter': 'best'}\n",
      "0.7216155754939084 {'max_features': 1, 'min_samples_leaf': 1, 'min_samples_split': 4, 'splitter': 'random'}\n",
      "0.701831759517461 {'max_features': 1, 'min_samples_leaf': 1, 'min_samples_split': 5, 'splitter': 'best'}\n",
      "0.7287310442177078 {'max_features': 1, 'min_samples_leaf': 1, 'min_samples_split': 5, 'splitter': 'random'}\n",
      "0.6980522942677091 {'max_features': 1, 'min_samples_leaf': 2, 'min_samples_split': 2, 'splitter': 'best'}\n",
      "0.3647077646377227 {'max_features': 1, 'min_samples_leaf': 2, 'min_samples_split': 2, 'splitter': 'random'}\n",
      "0.7009936856831901 {'max_features': 1, 'min_samples_leaf': 2, 'min_samples_split': 3, 'splitter': 'best'}\n",
      "0.08062930070858779 {'max_features': 1, 'min_samples_leaf': 2, 'min_samples_split': 3, 'splitter': 'random'}\n",
      "0.7123675449560524 {'max_features': 1, 'min_samples_leaf': 2, 'min_samples_split': 4, 'splitter': 'best'}\n",
      "0.279558426844044 {'max_features': 1, 'min_samples_leaf': 2, 'min_samples_split': 4, 'splitter': 'random'}\n",
      "0.7091664965459571 {'max_features': 1, 'min_samples_leaf': 2, 'min_samples_split': 5, 'splitter': 'best'}\n",
      "0.37021437680858693 {'max_features': 1, 'min_samples_leaf': 2, 'min_samples_split': 5, 'splitter': 'random'}\n",
      "0.6957422695445203 {'max_features': 1, 'min_samples_leaf': 3, 'min_samples_split': 2, 'splitter': 'best'}\n",
      "0.22187001107661208 {'max_features': 1, 'min_samples_leaf': 3, 'min_samples_split': 2, 'splitter': 'random'}\n",
      "0.6973788654264155 {'max_features': 1, 'min_samples_leaf': 3, 'min_samples_split': 3, 'splitter': 'best'}\n",
      "0.15254102139590378 {'max_features': 1, 'min_samples_leaf': 3, 'min_samples_split': 3, 'splitter': 'random'}\n",
      "0.6597419063820136 {'max_features': 1, 'min_samples_leaf': 3, 'min_samples_split': 4, 'splitter': 'best'}\n",
      "0.23673622555996304 {'max_features': 1, 'min_samples_leaf': 3, 'min_samples_split': 4, 'splitter': 'random'}\n",
      "0.6456766982091763 {'max_features': 1, 'min_samples_leaf': 3, 'min_samples_split': 5, 'splitter': 'best'}\n",
      "0.18475662910852453 {'max_features': 1, 'min_samples_leaf': 3, 'min_samples_split': 5, 'splitter': 'random'}\n",
      "0.7288653171809808 {'max_features': 1, 'min_samples_leaf': 4, 'min_samples_split': 2, 'splitter': 'best'}\n",
      "0.0860571099087479 {'max_features': 1, 'min_samples_leaf': 4, 'min_samples_split': 2, 'splitter': 'random'}\n",
      "0.6685317544065004 {'max_features': 1, 'min_samples_leaf': 4, 'min_samples_split': 3, 'splitter': 'best'}\n",
      "0.02601005261902036 {'max_features': 1, 'min_samples_leaf': 4, 'min_samples_split': 3, 'splitter': 'random'}\n",
      "0.6678078578860545 {'max_features': 1, 'min_samples_leaf': 4, 'min_samples_split': 4, 'splitter': 'best'}\n",
      "0.0964734264736686 {'max_features': 1, 'min_samples_leaf': 4, 'min_samples_split': 4, 'splitter': 'random'}\n",
      "0.6809741362591566 {'max_features': 1, 'min_samples_leaf': 4, 'min_samples_split': 5, 'splitter': 'best'}\n",
      "0.19463642496372413 {'max_features': 1, 'min_samples_leaf': 4, 'min_samples_split': 5, 'splitter': 'random'}\n",
      "0.6403283696487655 {'max_features': 1, 'min_samples_leaf': 5, 'min_samples_split': 2, 'splitter': 'best'}\n",
      "0.06375309131566595 {'max_features': 1, 'min_samples_leaf': 5, 'min_samples_split': 2, 'splitter': 'random'}\n",
      "0.6802425764969877 {'max_features': 1, 'min_samples_leaf': 5, 'min_samples_split': 3, 'splitter': 'best'}\n",
      "0.007930047727614142 {'max_features': 1, 'min_samples_leaf': 5, 'min_samples_split': 3, 'splitter': 'random'}\n",
      "0.6986840023478136 {'max_features': 1, 'min_samples_leaf': 5, 'min_samples_split': 4, 'splitter': 'best'}\n",
      "0.0066341239033899544 {'max_features': 1, 'min_samples_leaf': 5, 'min_samples_split': 4, 'splitter': 'random'}\n",
      "0.722054176870751 {'max_features': 1, 'min_samples_leaf': 5, 'min_samples_split': 5, 'splitter': 'best'}\n",
      "0.07939191495625184 {'max_features': 1, 'min_samples_leaf': 5, 'min_samples_split': 5, 'splitter': 'random'}\n",
      "0.7607759597335606 {'max_features': 2, 'min_samples_leaf': 1, 'min_samples_split': 2, 'splitter': 'best'}\n",
      "0.7380206748958109 {'max_features': 2, 'min_samples_leaf': 1, 'min_samples_split': 2, 'splitter': 'random'}\n",
      "0.7510179077286144 {'max_features': 2, 'min_samples_leaf': 1, 'min_samples_split': 3, 'splitter': 'best'}\n",
      "0.7767232266139928 {'max_features': 2, 'min_samples_leaf': 1, 'min_samples_split': 3, 'splitter': 'random'}\n",
      "0.7610654913276591 {'max_features': 2, 'min_samples_leaf': 1, 'min_samples_split': 4, 'splitter': 'best'}\n",
      "0.7555485182056215 {'max_features': 2, 'min_samples_leaf': 1, 'min_samples_split': 4, 'splitter': 'random'}\n",
      "0.7715473462421876 {'max_features': 2, 'min_samples_leaf': 1, 'min_samples_split': 5, 'splitter': 'best'}\n",
      "0.7625196989294591 {'max_features': 2, 'min_samples_leaf': 1, 'min_samples_split': 5, 'splitter': 'random'}\n",
      "0.7985679111612534 {'max_features': 2, 'min_samples_leaf': 2, 'min_samples_split': 2, 'splitter': 'best'}\n",
      "0.7531027685919888 {'max_features': 2, 'min_samples_leaf': 2, 'min_samples_split': 2, 'splitter': 'random'}\n",
      "0.7596618447663995 {'max_features': 2, 'min_samples_leaf': 2, 'min_samples_split': 3, 'splitter': 'best'}\n",
      "0.6529640360095532 {'max_features': 2, 'min_samples_leaf': 2, 'min_samples_split': 3, 'splitter': 'random'}\n",
      "0.7971593180593523 {'max_features': 2, 'min_samples_leaf': 2, 'min_samples_split': 4, 'splitter': 'best'}\n",
      "0.6012068281452047 {'max_features': 2, 'min_samples_leaf': 2, 'min_samples_split': 4, 'splitter': 'random'}\n",
      "0.7887812833432946 {'max_features': 2, 'min_samples_leaf': 2, 'min_samples_split': 5, 'splitter': 'best'}\n",
      "0.5709109505648506 {'max_features': 2, 'min_samples_leaf': 2, 'min_samples_split': 5, 'splitter': 'random'}\n",
      "0.7725227393347687 {'max_features': 2, 'min_samples_leaf': 3, 'min_samples_split': 2, 'splitter': 'best'}\n",
      "0.5179161737289524 {'max_features': 2, 'min_samples_leaf': 3, 'min_samples_split': 2, 'splitter': 'random'}\n",
      "0.8043601557224307 {'max_features': 2, 'min_samples_leaf': 3, 'min_samples_split': 3, 'splitter': 'best'}\n",
      "0.5690126558685157 {'max_features': 2, 'min_samples_leaf': 3, 'min_samples_split': 3, 'splitter': 'random'}\n",
      "0.7894568521374465 {'max_features': 2, 'min_samples_leaf': 3, 'min_samples_split': 4, 'splitter': 'best'}\n",
      "0.590839884975065 {'max_features': 2, 'min_samples_leaf': 3, 'min_samples_split': 4, 'splitter': 'random'}\n",
      "0.7483546814206233 {'max_features': 2, 'min_samples_leaf': 3, 'min_samples_split': 5, 'splitter': 'best'}\n",
      "0.46891355604486085 {'max_features': 2, 'min_samples_leaf': 3, 'min_samples_split': 5, 'splitter': 'random'}\n",
      "0.7984056338123168 {'max_features': 2, 'min_samples_leaf': 4, 'min_samples_split': 2, 'splitter': 'best'}\n",
      "0.5064372917159197 {'max_features': 2, 'min_samples_leaf': 4, 'min_samples_split': 2, 'splitter': 'random'}\n",
      "0.7731726889968419 {'max_features': 2, 'min_samples_leaf': 4, 'min_samples_split': 3, 'splitter': 'best'}\n",
      "0.711261777126042 {'max_features': 2, 'min_samples_leaf': 4, 'min_samples_split': 3, 'splitter': 'random'}\n",
      "0.7809878274482747 {'max_features': 2, 'min_samples_leaf': 4, 'min_samples_split': 4, 'splitter': 'best'}\n",
      "0.535643277725769 {'max_features': 2, 'min_samples_leaf': 4, 'min_samples_split': 4, 'splitter': 'random'}\n",
      "0.7705269091731923 {'max_features': 2, 'min_samples_leaf': 4, 'min_samples_split': 5, 'splitter': 'best'}\n",
      "0.3666310234249469 {'max_features': 2, 'min_samples_leaf': 4, 'min_samples_split': 5, 'splitter': 'random'}\n",
      "0.7538794820751971 {'max_features': 2, 'min_samples_leaf': 5, 'min_samples_split': 2, 'splitter': 'best'}\n",
      "0.37675074506619094 {'max_features': 2, 'min_samples_leaf': 5, 'min_samples_split': 2, 'splitter': 'random'}\n",
      "0.7966864444226487 {'max_features': 2, 'min_samples_leaf': 5, 'min_samples_split': 3, 'splitter': 'best'}\n",
      "0.5383834340066872 {'max_features': 2, 'min_samples_leaf': 5, 'min_samples_split': 3, 'splitter': 'random'}\n",
      "0.7770936770362817 {'max_features': 2, 'min_samples_leaf': 5, 'min_samples_split': 4, 'splitter': 'best'}\n",
      "0.3236650032034582 {'max_features': 2, 'min_samples_leaf': 5, 'min_samples_split': 4, 'splitter': 'random'}\n",
      "0.7838466434441527 {'max_features': 2, 'min_samples_leaf': 5, 'min_samples_split': 5, 'splitter': 'best'}\n",
      "0.1912943040701211 {'max_features': 2, 'min_samples_leaf': 5, 'min_samples_split': 5, 'splitter': 'random'}\n",
      "0.7872064486193986 {'max_features': 3, 'min_samples_leaf': 1, 'min_samples_split': 2, 'splitter': 'best'}\n",
      "0.7653854487423903 {'max_features': 3, 'min_samples_leaf': 1, 'min_samples_split': 2, 'splitter': 'random'}\n",
      "0.7968459470619269 {'max_features': 3, 'min_samples_leaf': 1, 'min_samples_split': 3, 'splitter': 'best'}\n",
      "0.7857639303111172 {'max_features': 3, 'min_samples_leaf': 1, 'min_samples_split': 3, 'splitter': 'random'}\n",
      "0.8022448086963261 {'max_features': 3, 'min_samples_leaf': 1, 'min_samples_split': 4, 'splitter': 'best'}\n",
      "0.7779933084253261 {'max_features': 3, 'min_samples_leaf': 1, 'min_samples_split': 4, 'splitter': 'random'}\n",
      "0.8141618932465937 {'max_features': 3, 'min_samples_leaf': 1, 'min_samples_split': 5, 'splitter': 'best'}\n",
      "0.8017974739232286 {'max_features': 3, 'min_samples_leaf': 1, 'min_samples_split': 5, 'splitter': 'random'}\n",
      "0.8014858295891342 {'max_features': 3, 'min_samples_leaf': 2, 'min_samples_split': 2, 'splitter': 'best'}\n",
      "0.8115907817473179 {'max_features': 3, 'min_samples_leaf': 2, 'min_samples_split': 2, 'splitter': 'random'}\n",
      "0.8073454973687241 {'max_features': 3, 'min_samples_leaf': 2, 'min_samples_split': 3, 'splitter': 'best'}\n",
      "0.7820092737334177 {'max_features': 3, 'min_samples_leaf': 2, 'min_samples_split': 3, 'splitter': 'random'}\n",
      "0.8299052394060775 {'max_features': 3, 'min_samples_leaf': 2, 'min_samples_split': 4, 'splitter': 'best'}\n",
      "0.7983447753486953 {'max_features': 3, 'min_samples_leaf': 2, 'min_samples_split': 4, 'splitter': 'random'}\n",
      "0.8174464527494745 {'max_features': 3, 'min_samples_leaf': 2, 'min_samples_split': 5, 'splitter': 'best'}\n",
      "0.7917409123497963 {'max_features': 3, 'min_samples_leaf': 2, 'min_samples_split': 5, 'splitter': 'random'}\n",
      "0.8311351536483775 {'max_features': 3, 'min_samples_leaf': 3, 'min_samples_split': 2, 'splitter': 'best'}\n",
      "0.7468283905001656 {'max_features': 3, 'min_samples_leaf': 3, 'min_samples_split': 2, 'splitter': 'random'}\n",
      "0.8159147935371898 {'max_features': 3, 'min_samples_leaf': 3, 'min_samples_split': 3, 'splitter': 'best'}\n",
      "0.7911532655315738 {'max_features': 3, 'min_samples_leaf': 3, 'min_samples_split': 3, 'splitter': 'random'}\n",
      "0.8254827480622108 {'max_features': 3, 'min_samples_leaf': 3, 'min_samples_split': 4, 'splitter': 'best'}\n",
      "0.788259844687828 {'max_features': 3, 'min_samples_leaf': 3, 'min_samples_split': 4, 'splitter': 'random'}\n",
      "0.8127698958043063 {'max_features': 3, 'min_samples_leaf': 3, 'min_samples_split': 5, 'splitter': 'best'}\n",
      "0.7800862419020207 {'max_features': 3, 'min_samples_leaf': 3, 'min_samples_split': 5, 'splitter': 'random'}\n",
      "0.8299226538353249 {'max_features': 3, 'min_samples_leaf': 4, 'min_samples_split': 2, 'splitter': 'best'}\n",
      "0.7740298005603196 {'max_features': 3, 'min_samples_leaf': 4, 'min_samples_split': 2, 'splitter': 'random'}\n",
      "0.8186352486022935 {'max_features': 3, 'min_samples_leaf': 4, 'min_samples_split': 3, 'splitter': 'best'}\n",
      "0.6651334305496673 {'max_features': 3, 'min_samples_leaf': 4, 'min_samples_split': 3, 'splitter': 'random'}\n",
      "0.8234156405572429 {'max_features': 3, 'min_samples_leaf': 4, 'min_samples_split': 4, 'splitter': 'best'}\n",
      "0.7121359748528091 {'max_features': 3, 'min_samples_leaf': 4, 'min_samples_split': 4, 'splitter': 'random'}\n",
      "0.8435539308937663 {'max_features': 3, 'min_samples_leaf': 4, 'min_samples_split': 5, 'splitter': 'best'}\n",
      "0.6263416646591141 {'max_features': 3, 'min_samples_leaf': 4, 'min_samples_split': 5, 'splitter': 'random'}\n",
      "0.8309468461204773 {'max_features': 3, 'min_samples_leaf': 5, 'min_samples_split': 2, 'splitter': 'best'}\n",
      "0.6880929710285818 {'max_features': 3, 'min_samples_leaf': 5, 'min_samples_split': 2, 'splitter': 'random'}\n",
      "0.8131658964702122 {'max_features': 3, 'min_samples_leaf': 5, 'min_samples_split': 3, 'splitter': 'best'}\n",
      "0.4900567771407636 {'max_features': 3, 'min_samples_leaf': 5, 'min_samples_split': 3, 'splitter': 'random'}\n",
      "0.8173186988270669 {'max_features': 3, 'min_samples_leaf': 5, 'min_samples_split': 4, 'splitter': 'best'}\n",
      "0.6891965017267675 {'max_features': 3, 'min_samples_leaf': 5, 'min_samples_split': 4, 'splitter': 'random'}\n",
      "0.8191514255420204 {'max_features': 3, 'min_samples_leaf': 5, 'min_samples_split': 5, 'splitter': 'best'}\n",
      "0.5627399305014645 {'max_features': 3, 'min_samples_leaf': 5, 'min_samples_split': 5, 'splitter': 'random'}\n",
      "0.8210037855923492 {'max_features': 4, 'min_samples_leaf': 1, 'min_samples_split': 2, 'splitter': 'best'}\n",
      "0.7967900200039435 {'max_features': 4, 'min_samples_leaf': 1, 'min_samples_split': 2, 'splitter': 'random'}\n",
      "0.8205370614938055 {'max_features': 4, 'min_samples_leaf': 1, 'min_samples_split': 3, 'splitter': 'best'}\n",
      "0.7949485838874231 {'max_features': 4, 'min_samples_leaf': 1, 'min_samples_split': 3, 'splitter': 'random'}\n",
      "0.8314038787001665 {'max_features': 4, 'min_samples_leaf': 1, 'min_samples_split': 4, 'splitter': 'best'}\n",
      "0.7985342708865134 {'max_features': 4, 'min_samples_leaf': 1, 'min_samples_split': 4, 'splitter': 'random'}\n",
      "0.8159477729645694 {'max_features': 4, 'min_samples_leaf': 1, 'min_samples_split': 5, 'splitter': 'best'}\n",
      "0.807305108871428 {'max_features': 4, 'min_samples_leaf': 1, 'min_samples_split': 5, 'splitter': 'random'}\n",
      "0.8255691539715032 {'max_features': 4, 'min_samples_leaf': 2, 'min_samples_split': 2, 'splitter': 'best'}\n",
      "0.794077929653078 {'max_features': 4, 'min_samples_leaf': 2, 'min_samples_split': 2, 'splitter': 'random'}\n",
      "0.8293346741547835 {'max_features': 4, 'min_samples_leaf': 2, 'min_samples_split': 3, 'splitter': 'best'}\n",
      "0.8150938987744096 {'max_features': 4, 'min_samples_leaf': 2, 'min_samples_split': 3, 'splitter': 'random'}\n",
      "0.829117526514036 {'max_features': 4, 'min_samples_leaf': 2, 'min_samples_split': 4, 'splitter': 'best'}\n",
      "0.8080330114480081 {'max_features': 4, 'min_samples_leaf': 2, 'min_samples_split': 4, 'splitter': 'random'}\n",
      "0.8365615167044484 {'max_features': 4, 'min_samples_leaf': 2, 'min_samples_split': 5, 'splitter': 'best'}\n",
      "0.8074486538690522 {'max_features': 4, 'min_samples_leaf': 2, 'min_samples_split': 5, 'splitter': 'random'}\n",
      "0.8364144511184047 {'max_features': 4, 'min_samples_leaf': 3, 'min_samples_split': 2, 'splitter': 'best'}\n",
      "0.8198756433790629 {'max_features': 4, 'min_samples_leaf': 3, 'min_samples_split': 2, 'splitter': 'random'}\n",
      "0.8414196055454575 {'max_features': 4, 'min_samples_leaf': 3, 'min_samples_split': 3, 'splitter': 'best'}\n",
      "0.796064469054665 {'max_features': 4, 'min_samples_leaf': 3, 'min_samples_split': 3, 'splitter': 'random'}\n",
      "0.8357278017031937 {'max_features': 4, 'min_samples_leaf': 3, 'min_samples_split': 4, 'splitter': 'best'}\n",
      "0.806726244858881 {'max_features': 4, 'min_samples_leaf': 3, 'min_samples_split': 4, 'splitter': 'random'}\n",
      "0.8245075763636105 {'max_features': 4, 'min_samples_leaf': 3, 'min_samples_split': 5, 'splitter': 'best'}\n",
      "0.8102163372236444 {'max_features': 4, 'min_samples_leaf': 3, 'min_samples_split': 5, 'splitter': 'random'}\n",
      "0.8368105288393233 {'max_features': 4, 'min_samples_leaf': 4, 'min_samples_split': 2, 'splitter': 'best'}\n",
      "0.7925536682786832 {'max_features': 4, 'min_samples_leaf': 4, 'min_samples_split': 2, 'splitter': 'random'}\n",
      "0.8347603072968391 {'max_features': 4, 'min_samples_leaf': 4, 'min_samples_split': 3, 'splitter': 'best'}\n",
      "0.6524952277310868 {'max_features': 4, 'min_samples_leaf': 4, 'min_samples_split': 3, 'splitter': 'random'}\n",
      "0.8419197961993022 {'max_features': 4, 'min_samples_leaf': 4, 'min_samples_split': 4, 'splitter': 'best'}\n",
      "0.8026604965732643 {'max_features': 4, 'min_samples_leaf': 4, 'min_samples_split': 4, 'splitter': 'random'}\n",
      "0.8279989633111912 {'max_features': 4, 'min_samples_leaf': 4, 'min_samples_split': 5, 'splitter': 'best'}\n",
      "0.8109043145468965 {'max_features': 4, 'min_samples_leaf': 4, 'min_samples_split': 5, 'splitter': 'random'}\n",
      "0.8431733154568285 {'max_features': 4, 'min_samples_leaf': 5, 'min_samples_split': 2, 'splitter': 'best'}\n",
      "0.6924786491288332 {'max_features': 4, 'min_samples_leaf': 5, 'min_samples_split': 2, 'splitter': 'random'}\n",
      "0.8502117693924802 {'max_features': 4, 'min_samples_leaf': 5, 'min_samples_split': 3, 'splitter': 'best'}\n",
      "0.777231875300916 {'max_features': 4, 'min_samples_leaf': 5, 'min_samples_split': 3, 'splitter': 'random'}\n",
      "0.830411444577104 {'max_features': 4, 'min_samples_leaf': 5, 'min_samples_split': 4, 'splitter': 'best'}\n",
      "0.741108680586543 {'max_features': 4, 'min_samples_leaf': 5, 'min_samples_split': 4, 'splitter': 'random'}\n",
      "0.820241847992326 {'max_features': 4, 'min_samples_leaf': 5, 'min_samples_split': 5, 'splitter': 'best'}\n",
      "0.6551825764069434 {'max_features': 4, 'min_samples_leaf': 5, 'min_samples_split': 5, 'splitter': 'random'}\n",
      "0.8173725598862418 {'max_features': 5, 'min_samples_leaf': 1, 'min_samples_split': 2, 'splitter': 'best'}\n",
      "0.7826177406566062 {'max_features': 5, 'min_samples_leaf': 1, 'min_samples_split': 2, 'splitter': 'random'}\n",
      "0.8281284527332096 {'max_features': 5, 'min_samples_leaf': 1, 'min_samples_split': 3, 'splitter': 'best'}\n",
      "0.8057776347243525 {'max_features': 5, 'min_samples_leaf': 1, 'min_samples_split': 3, 'splitter': 'random'}\n",
      "0.8290993453541882 {'max_features': 5, 'min_samples_leaf': 1, 'min_samples_split': 4, 'splitter': 'best'}\n",
      "0.7949347262531238 {'max_features': 5, 'min_samples_leaf': 1, 'min_samples_split': 4, 'splitter': 'random'}\n",
      "0.8307820452846599 {'max_features': 5, 'min_samples_leaf': 1, 'min_samples_split': 5, 'splitter': 'best'}\n",
      "0.8205967632885555 {'max_features': 5, 'min_samples_leaf': 1, 'min_samples_split': 5, 'splitter': 'random'}\n",
      "0.8338261019515631 {'max_features': 5, 'min_samples_leaf': 2, 'min_samples_split': 2, 'splitter': 'best'}\n",
      "0.8130707966358071 {'max_features': 5, 'min_samples_leaf': 2, 'min_samples_split': 2, 'splitter': 'random'}\n",
      "0.8425421455318263 {'max_features': 5, 'min_samples_leaf': 2, 'min_samples_split': 3, 'splitter': 'best'}\n",
      "0.8137670581078547 {'max_features': 5, 'min_samples_leaf': 2, 'min_samples_split': 3, 'splitter': 'random'}\n",
      "0.8411695786488167 {'max_features': 5, 'min_samples_leaf': 2, 'min_samples_split': 4, 'splitter': 'best'}\n",
      "0.8215232906390716 {'max_features': 5, 'min_samples_leaf': 2, 'min_samples_split': 4, 'splitter': 'random'}\n",
      "0.8347882398595932 {'max_features': 5, 'min_samples_leaf': 2, 'min_samples_split': 5, 'splitter': 'best'}\n",
      "0.8301401400731357 {'max_features': 5, 'min_samples_leaf': 2, 'min_samples_split': 5, 'splitter': 'random'}\n",
      "0.8398405067012458 {'max_features': 5, 'min_samples_leaf': 3, 'min_samples_split': 2, 'splitter': 'best'}\n",
      "0.824953550454925 {'max_features': 5, 'min_samples_leaf': 3, 'min_samples_split': 2, 'splitter': 'random'}\n",
      "0.8480247107832476 {'max_features': 5, 'min_samples_leaf': 3, 'min_samples_split': 3, 'splitter': 'best'}\n",
      "0.8316737503322825 {'max_features': 5, 'min_samples_leaf': 3, 'min_samples_split': 3, 'splitter': 'random'}\n",
      "0.8432222676594268 {'max_features': 5, 'min_samples_leaf': 3, 'min_samples_split': 4, 'splitter': 'best'}\n",
      "0.8249838464476715 {'max_features': 5, 'min_samples_leaf': 3, 'min_samples_split': 4, 'splitter': 'random'}\n",
      "0.8503297840438867 {'max_features': 5, 'min_samples_leaf': 3, 'min_samples_split': 5, 'splitter': 'best'}\n",
      "0.8256140189674758 {'max_features': 5, 'min_samples_leaf': 3, 'min_samples_split': 5, 'splitter': 'random'}\n",
      "0.8404422615240772 {'max_features': 5, 'min_samples_leaf': 4, 'min_samples_split': 2, 'splitter': 'best'}\n",
      "0.8275149874852682 {'max_features': 5, 'min_samples_leaf': 4, 'min_samples_split': 2, 'splitter': 'random'}\n",
      "0.8460510978683059 {'max_features': 5, 'min_samples_leaf': 4, 'min_samples_split': 3, 'splitter': 'best'}\n",
      "0.8087106673867742 {'max_features': 5, 'min_samples_leaf': 4, 'min_samples_split': 3, 'splitter': 'random'}\n",
      "0.8498630640145398 {'max_features': 5, 'min_samples_leaf': 4, 'min_samples_split': 4, 'splitter': 'best'}\n",
      "0.7617580290416154 {'max_features': 5, 'min_samples_leaf': 4, 'min_samples_split': 4, 'splitter': 'random'}\n",
      "0.8450976661574059 {'max_features': 5, 'min_samples_leaf': 4, 'min_samples_split': 5, 'splitter': 'best'}\n",
      "0.8196566179985185 {'max_features': 5, 'min_samples_leaf': 4, 'min_samples_split': 5, 'splitter': 'random'}\n",
      "0.8627014829258624 {'max_features': 5, 'min_samples_leaf': 5, 'min_samples_split': 2, 'splitter': 'best'}\n",
      "0.8003035879175672 {'max_features': 5, 'min_samples_leaf': 5, 'min_samples_split': 2, 'splitter': 'random'}\n",
      "0.8437991117279143 {'max_features': 5, 'min_samples_leaf': 5, 'min_samples_split': 3, 'splitter': 'best'}\n",
      "0.8168051878483051 {'max_features': 5, 'min_samples_leaf': 5, 'min_samples_split': 3, 'splitter': 'random'}\n",
      "0.8404016380973097 {'max_features': 5, 'min_samples_leaf': 5, 'min_samples_split': 4, 'splitter': 'best'}\n",
      "0.8021463768955345 {'max_features': 5, 'min_samples_leaf': 5, 'min_samples_split': 4, 'splitter': 'random'}\n",
      "0.8462662473484033 {'max_features': 5, 'min_samples_leaf': 5, 'min_samples_split': 5, 'splitter': 'best'}\n",
      "0.8074355685726294 {'max_features': 5, 'min_samples_leaf': 5, 'min_samples_split': 5, 'splitter': 'random'}\n",
      "0.8217993835073629 {'max_features': 6, 'min_samples_leaf': 1, 'min_samples_split': 2, 'splitter': 'best'}\n",
      "0.7946110085654178 {'max_features': 6, 'min_samples_leaf': 1, 'min_samples_split': 2, 'splitter': 'random'}\n",
      "0.8321064329566548 {'max_features': 6, 'min_samples_leaf': 1, 'min_samples_split': 3, 'splitter': 'best'}\n",
      "0.7949835360192314 {'max_features': 6, 'min_samples_leaf': 1, 'min_samples_split': 3, 'splitter': 'random'}\n",
      "0.83790503576191 {'max_features': 6, 'min_samples_leaf': 1, 'min_samples_split': 4, 'splitter': 'best'}\n",
      "0.8267983400016213 {'max_features': 6, 'min_samples_leaf': 1, 'min_samples_split': 4, 'splitter': 'random'}\n",
      "0.8276460491019779 {'max_features': 6, 'min_samples_leaf': 1, 'min_samples_split': 5, 'splitter': 'best'}\n",
      "0.819570810051552 {'max_features': 6, 'min_samples_leaf': 1, 'min_samples_split': 5, 'splitter': 'random'}\n",
      "0.845788512884373 {'max_features': 6, 'min_samples_leaf': 2, 'min_samples_split': 2, 'splitter': 'best'}\n",
      "0.8211785762567446 {'max_features': 6, 'min_samples_leaf': 2, 'min_samples_split': 2, 'splitter': 'random'}\n",
      "0.8299247611029598 {'max_features': 6, 'min_samples_leaf': 2, 'min_samples_split': 3, 'splitter': 'best'}\n",
      "0.8310809498304813 {'max_features': 6, 'min_samples_leaf': 2, 'min_samples_split': 3, 'splitter': 'random'}\n",
      "0.839970498008727 {'max_features': 6, 'min_samples_leaf': 2, 'min_samples_split': 4, 'splitter': 'best'}\n",
      "0.8218422590777266 {'max_features': 6, 'min_samples_leaf': 2, 'min_samples_split': 4, 'splitter': 'random'}\n",
      "0.8426181450067247 {'max_features': 6, 'min_samples_leaf': 2, 'min_samples_split': 5, 'splitter': 'best'}\n",
      "0.8324577693322872 {'max_features': 6, 'min_samples_leaf': 2, 'min_samples_split': 5, 'splitter': 'random'}\n",
      "0.8495134412175984 {'max_features': 6, 'min_samples_leaf': 3, 'min_samples_split': 2, 'splitter': 'best'}\n",
      "0.8444851521695286 {'max_features': 6, 'min_samples_leaf': 3, 'min_samples_split': 2, 'splitter': 'random'}\n",
      "0.8484819174872928 {'max_features': 6, 'min_samples_leaf': 3, 'min_samples_split': 3, 'splitter': 'best'}\n",
      "0.8421057040063922 {'max_features': 6, 'min_samples_leaf': 3, 'min_samples_split': 3, 'splitter': 'random'}\n",
      "0.847853339049219 {'max_features': 6, 'min_samples_leaf': 3, 'min_samples_split': 4, 'splitter': 'best'}\n",
      "0.8299107372522009 {'max_features': 6, 'min_samples_leaf': 3, 'min_samples_split': 4, 'splitter': 'random'}\n",
      "0.8523894114327332 {'max_features': 6, 'min_samples_leaf': 3, 'min_samples_split': 5, 'splitter': 'best'}\n",
      "0.8397422755987879 {'max_features': 6, 'min_samples_leaf': 3, 'min_samples_split': 5, 'splitter': 'random'}\n",
      "0.8616877023620477 {'max_features': 6, 'min_samples_leaf': 4, 'min_samples_split': 2, 'splitter': 'best'}\n",
      "0.8340866433543846 {'max_features': 6, 'min_samples_leaf': 4, 'min_samples_split': 2, 'splitter': 'random'}\n",
      "0.8534927019885897 {'max_features': 6, 'min_samples_leaf': 4, 'min_samples_split': 3, 'splitter': 'best'}\n",
      "0.827612145627308 {'max_features': 6, 'min_samples_leaf': 4, 'min_samples_split': 3, 'splitter': 'random'}\n",
      "0.849928051411571 {'max_features': 6, 'min_samples_leaf': 4, 'min_samples_split': 4, 'splitter': 'best'}\n",
      "0.8338982683323695 {'max_features': 6, 'min_samples_leaf': 4, 'min_samples_split': 4, 'splitter': 'random'}\n",
      "0.8443627657529233 {'max_features': 6, 'min_samples_leaf': 4, 'min_samples_split': 5, 'splitter': 'best'}\n",
      "0.8098164926736677 {'max_features': 6, 'min_samples_leaf': 4, 'min_samples_split': 5, 'splitter': 'random'}\n",
      "0.8488976385502385 {'max_features': 6, 'min_samples_leaf': 5, 'min_samples_split': 2, 'splitter': 'best'}\n",
      "0.8247728172344587 {'max_features': 6, 'min_samples_leaf': 5, 'min_samples_split': 2, 'splitter': 'random'}\n",
      "0.849940049734057 {'max_features': 6, 'min_samples_leaf': 5, 'min_samples_split': 3, 'splitter': 'best'}\n",
      "0.7721493232677343 {'max_features': 6, 'min_samples_leaf': 5, 'min_samples_split': 3, 'splitter': 'random'}\n",
      "0.8525659760427905 {'max_features': 6, 'min_samples_leaf': 5, 'min_samples_split': 4, 'splitter': 'best'}\n",
      "0.8277995195734817 {'max_features': 6, 'min_samples_leaf': 5, 'min_samples_split': 4, 'splitter': 'random'}\n",
      "0.8559135356629822 {'max_features': 6, 'min_samples_leaf': 5, 'min_samples_split': 5, 'splitter': 'best'}\n",
      "0.8025910693869781 {'max_features': 6, 'min_samples_leaf': 5, 'min_samples_split': 5, 'splitter': 'random'}\n",
      "0.8236611042919602 {'max_features': 7, 'min_samples_leaf': 1, 'min_samples_split': 2, 'splitter': 'best'}\n",
      "0.7988896298747569 {'max_features': 7, 'min_samples_leaf': 1, 'min_samples_split': 2, 'splitter': 'random'}\n",
      "0.8347206748001519 {'max_features': 7, 'min_samples_leaf': 1, 'min_samples_split': 3, 'splitter': 'best'}\n",
      "0.7988235376363575 {'max_features': 7, 'min_samples_leaf': 1, 'min_samples_split': 3, 'splitter': 'random'}\n",
      "0.8343639344402949 {'max_features': 7, 'min_samples_leaf': 1, 'min_samples_split': 4, 'splitter': 'best'}\n",
      "0.8112263357380431 {'max_features': 7, 'min_samples_leaf': 1, 'min_samples_split': 4, 'splitter': 'random'}\n",
      "0.8344487798085884 {'max_features': 7, 'min_samples_leaf': 1, 'min_samples_split': 5, 'splitter': 'best'}\n",
      "0.828959382602031 {'max_features': 7, 'min_samples_leaf': 1, 'min_samples_split': 5, 'splitter': 'random'}\n",
      "0.851813402056222 {'max_features': 7, 'min_samples_leaf': 2, 'min_samples_split': 2, 'splitter': 'best'}\n",
      "0.8292638130631429 {'max_features': 7, 'min_samples_leaf': 2, 'min_samples_split': 2, 'splitter': 'random'}\n",
      "0.8484357842067496 {'max_features': 7, 'min_samples_leaf': 2, 'min_samples_split': 3, 'splitter': 'best'}\n",
      "0.8276411530557632 {'max_features': 7, 'min_samples_leaf': 2, 'min_samples_split': 3, 'splitter': 'random'}\n",
      "0.8449471244460428 {'max_features': 7, 'min_samples_leaf': 2, 'min_samples_split': 4, 'splitter': 'best'}\n",
      "0.8163886306609582 {'max_features': 7, 'min_samples_leaf': 2, 'min_samples_split': 4, 'splitter': 'random'}\n",
      "0.8425462717568164 {'max_features': 7, 'min_samples_leaf': 2, 'min_samples_split': 5, 'splitter': 'best'}\n",
      "0.8262417412830289 {'max_features': 7, 'min_samples_leaf': 2, 'min_samples_split': 5, 'splitter': 'random'}\n",
      "0.8482980797071911 {'max_features': 7, 'min_samples_leaf': 3, 'min_samples_split': 2, 'splitter': 'best'}\n",
      "0.8362692420590889 {'max_features': 7, 'min_samples_leaf': 3, 'min_samples_split': 2, 'splitter': 'random'}\n",
      "0.8473700049155571 {'max_features': 7, 'min_samples_leaf': 3, 'min_samples_split': 3, 'splitter': 'best'}\n",
      "0.8429989948078912 {'max_features': 7, 'min_samples_leaf': 3, 'min_samples_split': 3, 'splitter': 'random'}\n",
      "0.8520589822782716 {'max_features': 7, 'min_samples_leaf': 3, 'min_samples_split': 4, 'splitter': 'best'}\n",
      "0.8331243164135568 {'max_features': 7, 'min_samples_leaf': 3, 'min_samples_split': 4, 'splitter': 'random'}\n",
      "0.8485442628643748 {'max_features': 7, 'min_samples_leaf': 3, 'min_samples_split': 5, 'splitter': 'best'}\n",
      "0.8340598449277514 {'max_features': 7, 'min_samples_leaf': 3, 'min_samples_split': 5, 'splitter': 'random'}\n",
      "0.8594360801445861 {'max_features': 7, 'min_samples_leaf': 4, 'min_samples_split': 2, 'splitter': 'best'}\n",
      "0.8339918220255628 {'max_features': 7, 'min_samples_leaf': 4, 'min_samples_split': 2, 'splitter': 'random'}\n",
      "0.8532068903982711 {'max_features': 7, 'min_samples_leaf': 4, 'min_samples_split': 3, 'splitter': 'best'}\n",
      "0.8311409404203648 {'max_features': 7, 'min_samples_leaf': 4, 'min_samples_split': 3, 'splitter': 'random'}\n",
      "0.8526136063721417 {'max_features': 7, 'min_samples_leaf': 4, 'min_samples_split': 4, 'splitter': 'best'}\n",
      "0.8117055889856226 {'max_features': 7, 'min_samples_leaf': 4, 'min_samples_split': 4, 'splitter': 'random'}\n",
      "0.8529398806727814 {'max_features': 7, 'min_samples_leaf': 4, 'min_samples_split': 5, 'splitter': 'best'}\n",
      "0.8310484185702063 {'max_features': 7, 'min_samples_leaf': 4, 'min_samples_split': 5, 'splitter': 'random'}\n",
      "0.8519548309450624 {'max_features': 7, 'min_samples_leaf': 5, 'min_samples_split': 2, 'splitter': 'best'}\n",
      "0.8372002385810549 {'max_features': 7, 'min_samples_leaf': 5, 'min_samples_split': 2, 'splitter': 'random'}\n",
      "0.8658043793322079 {'max_features': 7, 'min_samples_leaf': 5, 'min_samples_split': 3, 'splitter': 'best'}\n",
      "0.8466639553695245 {'max_features': 7, 'min_samples_leaf': 5, 'min_samples_split': 3, 'splitter': 'random'}\n",
      "0.8549626533180122 {'max_features': 7, 'min_samples_leaf': 5, 'min_samples_split': 4, 'splitter': 'best'}\n",
      "0.8238523795769538 {'max_features': 7, 'min_samples_leaf': 5, 'min_samples_split': 4, 'splitter': 'random'}\n",
      "0.857549772637449 {'max_features': 7, 'min_samples_leaf': 5, 'min_samples_split': 5, 'splitter': 'best'}\n",
      "0.828991405973594 {'max_features': 7, 'min_samples_leaf': 5, 'min_samples_split': 5, 'splitter': 'random'}\n",
      "0.8411480196046727 {'max_features': 8, 'min_samples_leaf': 1, 'min_samples_split': 2, 'splitter': 'best'}\n",
      "0.7992978693360926 {'max_features': 8, 'min_samples_leaf': 1, 'min_samples_split': 2, 'splitter': 'random'}\n",
      "0.8301552736242955 {'max_features': 8, 'min_samples_leaf': 1, 'min_samples_split': 3, 'splitter': 'best'}\n",
      "0.8127060507662784 {'max_features': 8, 'min_samples_leaf': 1, 'min_samples_split': 3, 'splitter': 'random'}\n",
      "0.8276689867283421 {'max_features': 8, 'min_samples_leaf': 1, 'min_samples_split': 4, 'splitter': 'best'}\n",
      "0.8182531376410693 {'max_features': 8, 'min_samples_leaf': 1, 'min_samples_split': 4, 'splitter': 'random'}\n",
      "0.8394035099700021 {'max_features': 8, 'min_samples_leaf': 1, 'min_samples_split': 5, 'splitter': 'best'}\n",
      "0.82143970665513 {'max_features': 8, 'min_samples_leaf': 1, 'min_samples_split': 5, 'splitter': 'random'}\n",
      "0.8470521811607524 {'max_features': 8, 'min_samples_leaf': 2, 'min_samples_split': 2, 'splitter': 'best'}\n",
      "0.8330765140743228 {'max_features': 8, 'min_samples_leaf': 2, 'min_samples_split': 2, 'splitter': 'random'}\n",
      "0.8411542773052212 {'max_features': 8, 'min_samples_leaf': 2, 'min_samples_split': 3, 'splitter': 'best'}\n",
      "0.8307165351031219 {'max_features': 8, 'min_samples_leaf': 2, 'min_samples_split': 3, 'splitter': 'random'}\n",
      "0.8400370952549714 {'max_features': 8, 'min_samples_leaf': 2, 'min_samples_split': 4, 'splitter': 'best'}\n",
      "0.8330556421703708 {'max_features': 8, 'min_samples_leaf': 2, 'min_samples_split': 4, 'splitter': 'random'}\n",
      "0.8441361243386126 {'max_features': 8, 'min_samples_leaf': 2, 'min_samples_split': 5, 'splitter': 'best'}\n",
      "0.8308433014128003 {'max_features': 8, 'min_samples_leaf': 2, 'min_samples_split': 5, 'splitter': 'random'}\n",
      "0.8496404619023007 {'max_features': 8, 'min_samples_leaf': 3, 'min_samples_split': 2, 'splitter': 'best'}\n",
      "0.8265345831695239 {'max_features': 8, 'min_samples_leaf': 3, 'min_samples_split': 2, 'splitter': 'random'}\n",
      "0.8456171942587541 {'max_features': 8, 'min_samples_leaf': 3, 'min_samples_split': 3, 'splitter': 'best'}\n",
      "0.8448656036091945 {'max_features': 8, 'min_samples_leaf': 3, 'min_samples_split': 3, 'splitter': 'random'}\n",
      "0.8484944908796436 {'max_features': 8, 'min_samples_leaf': 3, 'min_samples_split': 4, 'splitter': 'best'}\n",
      "0.8311575672855962 {'max_features': 8, 'min_samples_leaf': 3, 'min_samples_split': 4, 'splitter': 'random'}\n",
      "0.8477349519157654 {'max_features': 8, 'min_samples_leaf': 3, 'min_samples_split': 5, 'splitter': 'best'}\n",
      "0.8302215177256317 {'max_features': 8, 'min_samples_leaf': 3, 'min_samples_split': 5, 'splitter': 'random'}\n",
      "0.8595969643464544 {'max_features': 8, 'min_samples_leaf': 4, 'min_samples_split': 2, 'splitter': 'best'}\n",
      "0.8224941305413724 {'max_features': 8, 'min_samples_leaf': 4, 'min_samples_split': 2, 'splitter': 'random'}\n",
      "0.8563885344770163 {'max_features': 8, 'min_samples_leaf': 4, 'min_samples_split': 3, 'splitter': 'best'}\n",
      "0.8407228468541851 {'max_features': 8, 'min_samples_leaf': 4, 'min_samples_split': 3, 'splitter': 'random'}\n",
      "0.8535663789348427 {'max_features': 8, 'min_samples_leaf': 4, 'min_samples_split': 4, 'splitter': 'best'}\n",
      "0.8363123822614229 {'max_features': 8, 'min_samples_leaf': 4, 'min_samples_split': 4, 'splitter': 'random'}\n",
      "0.8533190420870111 {'max_features': 8, 'min_samples_leaf': 4, 'min_samples_split': 5, 'splitter': 'best'}\n",
      "0.8376974203838374 {'max_features': 8, 'min_samples_leaf': 4, 'min_samples_split': 5, 'splitter': 'random'}\n",
      "0.8622733509269411 {'max_features': 8, 'min_samples_leaf': 5, 'min_samples_split': 2, 'splitter': 'best'}\n",
      "0.8334553032848486 {'max_features': 8, 'min_samples_leaf': 5, 'min_samples_split': 2, 'splitter': 'random'}\n",
      "0.8674946895710718 {'max_features': 8, 'min_samples_leaf': 5, 'min_samples_split': 3, 'splitter': 'best'}\n",
      "0.838373158468254 {'max_features': 8, 'min_samples_leaf': 5, 'min_samples_split': 3, 'splitter': 'random'}\n",
      "0.8685966961682707 {'max_features': 8, 'min_samples_leaf': 5, 'min_samples_split': 4, 'splitter': 'best'}\n",
      "0.8381835863081161 {'max_features': 8, 'min_samples_leaf': 5, 'min_samples_split': 4, 'splitter': 'random'}\n",
      "0.8618494169083049 {'max_features': 8, 'min_samples_leaf': 5, 'min_samples_split': 5, 'splitter': 'best'}\n",
      "0.8325167618331776 {'max_features': 8, 'min_samples_leaf': 5, 'min_samples_split': 5, 'splitter': 'random'}\n",
      "0.8291218442618151 {'max_features': 9, 'min_samples_leaf': 1, 'min_samples_split': 2, 'splitter': 'best'}\n",
      "0.8075866102484781 {'max_features': 9, 'min_samples_leaf': 1, 'min_samples_split': 2, 'splitter': 'random'}\n",
      "0.8315968275747847 {'max_features': 9, 'min_samples_leaf': 1, 'min_samples_split': 3, 'splitter': 'best'}\n",
      "0.8092054958340512 {'max_features': 9, 'min_samples_leaf': 1, 'min_samples_split': 3, 'splitter': 'random'}\n",
      "0.8365056464341771 {'max_features': 9, 'min_samples_leaf': 1, 'min_samples_split': 4, 'splitter': 'best'}\n",
      "0.8164104371991951 {'max_features': 9, 'min_samples_leaf': 1, 'min_samples_split': 4, 'splitter': 'random'}\n",
      "0.8374612042906525 {'max_features': 9, 'min_samples_leaf': 1, 'min_samples_split': 5, 'splitter': 'best'}\n",
      "0.8286576027404772 {'max_features': 9, 'min_samples_leaf': 1, 'min_samples_split': 5, 'splitter': 'random'}\n",
      "0.841198431298593 {'max_features': 9, 'min_samples_leaf': 2, 'min_samples_split': 2, 'splitter': 'best'}\n",
      "0.8286558776880597 {'max_features': 9, 'min_samples_leaf': 2, 'min_samples_split': 2, 'splitter': 'random'}\n",
      "0.8411896381983637 {'max_features': 9, 'min_samples_leaf': 2, 'min_samples_split': 3, 'splitter': 'best'}\n",
      "0.8242023011956373 {'max_features': 9, 'min_samples_leaf': 2, 'min_samples_split': 3, 'splitter': 'random'}\n",
      "0.8413055860411524 {'max_features': 9, 'min_samples_leaf': 2, 'min_samples_split': 4, 'splitter': 'best'}\n",
      "0.835537841449028 {'max_features': 9, 'min_samples_leaf': 2, 'min_samples_split': 4, 'splitter': 'random'}\n",
      "0.8403281484421627 {'max_features': 9, 'min_samples_leaf': 2, 'min_samples_split': 5, 'splitter': 'best'}\n",
      "0.8300900957175281 {'max_features': 9, 'min_samples_leaf': 2, 'min_samples_split': 5, 'splitter': 'random'}\n",
      "0.8501357113435178 {'max_features': 9, 'min_samples_leaf': 3, 'min_samples_split': 2, 'splitter': 'best'}\n",
      "0.844520070370127 {'max_features': 9, 'min_samples_leaf': 3, 'min_samples_split': 2, 'splitter': 'random'}\n",
      "0.8510847070310736 {'max_features': 9, 'min_samples_leaf': 3, 'min_samples_split': 3, 'splitter': 'best'}\n",
      "0.8416832167132112 {'max_features': 9, 'min_samples_leaf': 3, 'min_samples_split': 3, 'splitter': 'random'}\n",
      "0.8524549866900598 {'max_features': 9, 'min_samples_leaf': 3, 'min_samples_split': 4, 'splitter': 'best'}\n",
      "0.8468948111799349 {'max_features': 9, 'min_samples_leaf': 3, 'min_samples_split': 4, 'splitter': 'random'}\n",
      "0.8512892769638378 {'max_features': 9, 'min_samples_leaf': 3, 'min_samples_split': 5, 'splitter': 'best'}\n",
      "0.8401550243918274 {'max_features': 9, 'min_samples_leaf': 3, 'min_samples_split': 5, 'splitter': 'random'}\n",
      "0.8547845354230562 {'max_features': 9, 'min_samples_leaf': 4, 'min_samples_split': 2, 'splitter': 'best'}\n",
      "0.8377995804591503 {'max_features': 9, 'min_samples_leaf': 4, 'min_samples_split': 2, 'splitter': 'random'}\n",
      "0.854828426668611 {'max_features': 9, 'min_samples_leaf': 4, 'min_samples_split': 3, 'splitter': 'best'}\n",
      "0.8418602384010686 {'max_features': 9, 'min_samples_leaf': 4, 'min_samples_split': 3, 'splitter': 'random'}\n",
      "0.8540527133424582 {'max_features': 9, 'min_samples_leaf': 4, 'min_samples_split': 4, 'splitter': 'best'}\n",
      "0.8369780048574966 {'max_features': 9, 'min_samples_leaf': 4, 'min_samples_split': 4, 'splitter': 'random'}\n",
      "0.8543562568718119 {'max_features': 9, 'min_samples_leaf': 4, 'min_samples_split': 5, 'splitter': 'best'}\n",
      "0.8323053942067459 {'max_features': 9, 'min_samples_leaf': 4, 'min_samples_split': 5, 'splitter': 'random'}\n",
      "0.8606962687065802 {'max_features': 9, 'min_samples_leaf': 5, 'min_samples_split': 2, 'splitter': 'best'}\n",
      "0.8425686758776585 {'max_features': 9, 'min_samples_leaf': 5, 'min_samples_split': 2, 'splitter': 'random'}\n",
      "0.8615582234048256 {'max_features': 9, 'min_samples_leaf': 5, 'min_samples_split': 3, 'splitter': 'best'}\n",
      "0.8472481757058231 {'max_features': 9, 'min_samples_leaf': 5, 'min_samples_split': 3, 'splitter': 'random'}\n",
      "0.8609968760188786 {'max_features': 9, 'min_samples_leaf': 5, 'min_samples_split': 4, 'splitter': 'best'}\n",
      "0.8364415247368651 {'max_features': 9, 'min_samples_leaf': 5, 'min_samples_split': 4, 'splitter': 'random'}\n",
      "0.861147793584264 {'max_features': 9, 'min_samples_leaf': 5, 'min_samples_split': 5, 'splitter': 'best'}\n",
      "0.8352988439952045 {'max_features': 9, 'min_samples_leaf': 5, 'min_samples_split': 5, 'splitter': 'random'}\n"
     ]
    }
   ],
   "source": [
    "cvres = grid_search.cv_results_\n",
    "for mean_score, params in zip(cvres[\"mean_test_score\"], cvres[\"params\"]):\n",
    "    print(mean_score, params)"
   ]
  },
  {
   "cell_type": "code",
   "execution_count": 40,
   "metadata": {},
   "outputs": [
    {
     "data": {
      "text/plain": [
       "{'max_features': 8,\n",
       " 'min_samples_leaf': 5,\n",
       " 'min_samples_split': 4,\n",
       " 'splitter': 'best'}"
      ]
     },
     "execution_count": 40,
     "metadata": {},
     "output_type": "execute_result"
    }
   ],
   "source": [
    "grid_search.best_params_"
   ]
  },
  {
   "cell_type": "code",
   "execution_count": 41,
   "metadata": {},
   "outputs": [
    {
     "data": {
      "text/plain": [
       "0.8685966961682707"
      ]
     },
     "execution_count": 41,
     "metadata": {},
     "output_type": "execute_result"
    }
   ],
   "source": [
    "grid_search.best_score_"
   ]
  },
  {
   "cell_type": "markdown",
   "metadata": {},
   "source": [
    "## Trying it out with knn regressor:"
   ]
  },
  {
   "cell_type": "code",
   "execution_count": 42,
   "metadata": {
    "scrolled": true
   },
   "outputs": [
    {
     "data": {
      "text/plain": [
       "KNeighborsRegressor()"
      ]
     },
     "execution_count": 42,
     "metadata": {},
     "output_type": "execute_result"
    }
   ],
   "source": [
    "knn=KNeighborsRegressor()\n",
    "knn.fit(nutrition,nutrition_lables)"
   ]
  },
  {
   "cell_type": "code",
   "execution_count": 43,
   "metadata": {},
   "outputs": [
    {
     "data": {
      "text/plain": [
       "array([ 89. , 517.2, 209.2, ..., 188.6, 137.6, 112.6])"
      ]
     },
     "execution_count": 43,
     "metadata": {},
     "output_type": "execute_result"
    }
   ],
   "source": [
    "predictions=knn.predict(nutrition)\n",
    "predictions"
   ]
  },
  {
   "cell_type": "code",
   "execution_count": 44,
   "metadata": {},
   "outputs": [
    {
     "data": {
      "text/plain": [
       "array([ 88, 531, 264, ..., 315, 140, 114], dtype=int64)"
      ]
     },
     "execution_count": 44,
     "metadata": {},
     "output_type": "execute_result"
    }
   ],
   "source": [
    "np.array(nutrition_lables)"
   ]
  },
  {
   "cell_type": "code",
   "execution_count": 45,
   "metadata": {},
   "outputs": [
    {
     "data": {
      "text/plain": [
       "GridSearchCV(cv=10, estimator=KNeighborsRegressor(),\n",
       "             param_grid=[{'n_neighbors': [5, 6, 7, 8, 9, 10, 11, 12, 13, 14, 15,\n",
       "                                          17, 17, 18, 19, 20],\n",
       "                          'p': [1], 'weights': ['uniform', 'distance']}],\n",
       "             return_train_score=True, scoring='r2')"
      ]
     },
     "execution_count": 45,
     "metadata": {},
     "output_type": "execute_result"
    }
   ],
   "source": [
    "param_grid = [\n",
    " {'n_neighbors': [5,6,7,8,9,10,11,12,13,14,15,17,17,18,19,20],'weights':['uniform','distance'],'p':[1]},\n",
    " ]\n",
    "new_knn=KNeighborsRegressor()\n",
    "grid_search=GridSearchCV(new_knn,param_grid,cv=10,scoring='r2',return_train_score=True)\n",
    "grid_search.fit(nutrition,nutrition_lables)"
   ]
  },
  {
   "cell_type": "code",
   "execution_count": 46,
   "metadata": {},
   "outputs": [
    {
     "name": "stdout",
     "output_type": "stream",
     "text": [
      "0.8528106605501959 {'n_neighbors': 5, 'p': 1, 'weights': 'uniform'}\n",
      "0.8566694662464116 {'n_neighbors': 5, 'p': 1, 'weights': 'distance'}\n",
      "0.8536248647801118 {'n_neighbors': 6, 'p': 1, 'weights': 'uniform'}\n",
      "0.8583377110231847 {'n_neighbors': 6, 'p': 1, 'weights': 'distance'}\n",
      "0.8596536386896576 {'n_neighbors': 7, 'p': 1, 'weights': 'uniform'}\n",
      "0.8643896198916913 {'n_neighbors': 7, 'p': 1, 'weights': 'distance'}\n",
      "0.8636747463860294 {'n_neighbors': 8, 'p': 1, 'weights': 'uniform'}\n",
      "0.8685044900228936 {'n_neighbors': 8, 'p': 1, 'weights': 'distance'}\n",
      "0.8637267103274271 {'n_neighbors': 9, 'p': 1, 'weights': 'uniform'}\n",
      "0.8693272637885372 {'n_neighbors': 9, 'p': 1, 'weights': 'distance'}\n",
      "0.8632489724698335 {'n_neighbors': 10, 'p': 1, 'weights': 'uniform'}\n",
      "0.8693671453592641 {'n_neighbors': 10, 'p': 1, 'weights': 'distance'}\n",
      "0.8632724433352532 {'n_neighbors': 11, 'p': 1, 'weights': 'uniform'}\n",
      "0.8694813532430663 {'n_neighbors': 11, 'p': 1, 'weights': 'distance'}\n",
      "0.8633942089478426 {'n_neighbors': 12, 'p': 1, 'weights': 'uniform'}\n",
      "0.8701253685917273 {'n_neighbors': 12, 'p': 1, 'weights': 'distance'}\n",
      "0.8629163970676 {'n_neighbors': 13, 'p': 1, 'weights': 'uniform'}\n",
      "0.8704567879301444 {'n_neighbors': 13, 'p': 1, 'weights': 'distance'}\n",
      "0.8629038029403219 {'n_neighbors': 14, 'p': 1, 'weights': 'uniform'}\n",
      "0.8709287211939394 {'n_neighbors': 14, 'p': 1, 'weights': 'distance'}\n",
      "0.8623443077572214 {'n_neighbors': 15, 'p': 1, 'weights': 'uniform'}\n",
      "0.8710725041412773 {'n_neighbors': 15, 'p': 1, 'weights': 'distance'}\n",
      "0.861692594481138 {'n_neighbors': 17, 'p': 1, 'weights': 'uniform'}\n",
      "0.8710125603414267 {'n_neighbors': 17, 'p': 1, 'weights': 'distance'}\n",
      "0.861692594481138 {'n_neighbors': 17, 'p': 1, 'weights': 'uniform'}\n",
      "0.8710125603414267 {'n_neighbors': 17, 'p': 1, 'weights': 'distance'}\n",
      "0.8617266195940552 {'n_neighbors': 18, 'p': 1, 'weights': 'uniform'}\n",
      "0.8712743834002825 {'n_neighbors': 18, 'p': 1, 'weights': 'distance'}\n",
      "0.8613206252997602 {'n_neighbors': 19, 'p': 1, 'weights': 'uniform'}\n",
      "0.8712368200453972 {'n_neighbors': 19, 'p': 1, 'weights': 'distance'}\n",
      "0.8604386837426377 {'n_neighbors': 20, 'p': 1, 'weights': 'uniform'}\n",
      "0.8708225105219908 {'n_neighbors': 20, 'p': 1, 'weights': 'distance'}\n"
     ]
    }
   ],
   "source": [
    "cvres = grid_search.cv_results_\n",
    "for mean_score, params in zip(cvres[\"mean_test_score\"], cvres[\"params\"]):\n",
    "    print(mean_score, params)"
   ]
  },
  {
   "cell_type": "code",
   "execution_count": 47,
   "metadata": {},
   "outputs": [
    {
     "data": {
      "text/plain": [
       "0.8712743834002825"
      ]
     },
     "execution_count": 47,
     "metadata": {},
     "output_type": "execute_result"
    }
   ],
   "source": [
    "grid_search.best_score_"
   ]
  },
  {
   "cell_type": "code",
   "execution_count": 48,
   "metadata": {},
   "outputs": [
    {
     "data": {
      "text/plain": [
       "{'n_neighbors': 18, 'p': 1, 'weights': 'distance'}"
      ]
     },
     "execution_count": 48,
     "metadata": {},
     "output_type": "execute_result"
    }
   ],
   "source": [
    "grid_search.best_params_"
   ]
  },
  {
   "cell_type": "markdown",
   "metadata": {},
   "source": [
    "## Choosing the final model - the KNN-Regressor"
   ]
  },
  {
   "cell_type": "code",
   "execution_count": 49,
   "metadata": {},
   "outputs": [
    {
     "data": {
      "text/plain": [
       "KNeighborsRegressor(n_neighbors=18, p=1, weights='distance')"
      ]
     },
     "execution_count": 49,
     "metadata": {},
     "output_type": "execute_result"
    }
   ],
   "source": [
    "final_model=grid_search.best_estimator_\n",
    "final_model"
   ]
  },
  {
   "cell_type": "markdown",
   "metadata": {},
   "source": [
    "## Fixing the null values in the test set and scale the values"
   ]
  },
  {
   "cell_type": "code",
   "execution_count": 50,
   "metadata": {},
   "outputs": [
    {
     "data": {
      "text/plain": [
       "<matplotlib.axes._subplots.AxesSubplot at 0x2694af54fa0>"
      ]
     },
     "execution_count": 50,
     "metadata": {},
     "output_type": "execute_result"
    },
    {
     "data": {
      "image/png": "[encoded data removed]",
      "text/plain": [
       "<Figure size 432x288 with 2 Axes>"
      ]
     },
     "metadata": {
      "needs_background": "light"
     },
     "output_type": "display_data"
    }
   ],
   "source": [
    "sns.heatmap(test_set.isnull())"
   ]
  },
  {
   "cell_type": "code",
   "execution_count": 51,
   "metadata": {},
   "outputs": [],
   "source": [
    "test_set=test_set.fillna(0)"
   ]
  },
  {
   "cell_type": "code",
   "execution_count": 52,
   "metadata": {},
   "outputs": [
    {
     "data": {
      "text/plain": [
       "<matplotlib.axes._subplots.AxesSubplot at 0x2694ac79310>"
      ]
     },
     "execution_count": 52,
     "metadata": {},
     "output_type": "execute_result"
    },
    {
     "data": {
      "image/png": "[encoded data removed]",
      "text/plain": [
       "<Figure size 432x288 with 2 Axes>"
      ]
     },
     "metadata": {
      "needs_background": "light"
     },
     "output_type": "display_data"
    }
   ],
   "source": [
    "sns.heatmap(test_set.isnull())"
   ]
  },
  {
   "cell_type": "code",
   "execution_count": 53,
   "metadata": {},
   "outputs": [],
   "source": [
    "attributes=['vitamin_a','vitamin_b12','vitamin_b6','vitamin_c','vitamin_e','vitamin_k']\n",
    "for i in attributes:\n",
    "    test_set[i]=test_set[i]/1000"
   ]
  },
  {
   "cell_type": "code",
   "execution_count": 70,
   "metadata": {},
   "outputs": [
    {
     "data": {
      "text/plain": [
       "0.8600341939323458"
      ]
     },
     "execution_count": 70,
     "metadata": {},
     "output_type": "execute_result"
    }
   ],
   "source": [
    "X_test = test_set.drop(\"calories\", axis=1)\n",
    "y_test = test_set[\"calories\"].copy()\n",
    "final_predictions = final_model.predict(X_test)\n",
    "final_r2=r2_score(y_test,final_predictions)\n",
    "final_r2"
   ]
  },
  {
   "cell_type": "markdown",
   "metadata": {},
   "source": [
    "# Comparing our model with a zero trust security model:"
   ]
  },
  {
   "cell_type": "markdown",
   "metadata": {},
   "source": [
    "#### Let's say that the model will always \"predict\" the mean value of calories:"
   ]
  },
  {
   "cell_type": "code",
   "execution_count": 61,
   "metadata": {},
   "outputs": [],
   "source": [
    "mean=y_test.mean()"
   ]
  },
  {
   "cell_type": "code",
   "execution_count": 62,
   "metadata": {},
   "outputs": [
    {
     "data": {
      "text/plain": [
       "218.34735706580366"
      ]
     },
     "execution_count": 62,
     "metadata": {},
     "output_type": "execute_result"
    }
   ],
   "source": [
    "mean"
   ]
  },
  {
   "cell_type": "markdown",
   "metadata": {},
   "source": [
    "## Lets check the score of the model:"
   ]
  },
  {
   "cell_type": "code",
   "execution_count": 66,
   "metadata": {},
   "outputs": [],
   "source": [
    "newarrscore=[]\n",
    "for i in range(0,len(y_test)):\n",
    "    newarrscore.append(mean)"
   ]
  },
  {
   "cell_type": "code",
   "execution_count": 68,
   "metadata": {},
   "outputs": [],
   "source": [
    "newarrscore=np.array(newarrscore)"
   ]
  },
  {
   "cell_type": "code",
   "execution_count": 69,
   "metadata": {},
   "outputs": [
    {
     "data": {
      "text/plain": [
       "0.0"
      ]
     },
     "execution_count": 69,
     "metadata": {},
     "output_type": "execute_result"
    }
   ],
   "source": [
    "r2_score(y_test,newarrscore)"
   ]
  }
 ],
 "metadata": {
  "kernelspec": {
   "display_name": "Python 3",
   "language": "python",
   "name": "python3"
  },
  "language_info": {
   "codemirror_mode": {
    "name": "ipython",
    "version": 3
   },
   "file_extension": ".py",
   "mimetype": "text/x-python",
   "name": "python",
   "nbconvert_exporter": "python",
   "pygments_lexer": "ipython3",
   "version": "3.8.3"
  }
 },
 "nbformat": 4,
 "nbformat_minor": 4
}
